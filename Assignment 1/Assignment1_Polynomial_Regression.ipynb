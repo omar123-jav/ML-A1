{
 "cells": [
  {
   "cell_type": "markdown",
   "metadata": {
    "id": "nz_9QnWBj9_6"
   },
   "source": [
    "# Polynomial Regression Assignment (Please do not remove the output cells)"
   ]
  },
  {
   "cell_type": "markdown",
   "metadata": {
    "id": "oNtRAlw1uQYi"
   },
   "source": [
    "## The objective is to apply polynomial regression on the provided data using 3 regularization techniques"
   ]
  },
  {
   "cell_type": "markdown",
   "metadata": {
    "id": "0Sh_Oqa2j9_7"
   },
   "source": [
    "Tasks are defined below:\n",
    "1-  Read the dataset, and get acquainted with its features and labels. Check the link below for more details about the data.  \n",
    "https://archive.ics.uci.edu/ml/datasets/Air+Quality  \n",
    "\n",
    "2-  This dataset has 5 different output labels. For this assignment we only need the NO2 output. Please drop other outputs.  \n",
    "\n",
    "3-  Handle missing data similar to what was covered in tutorial 3.  \n",
    "\n",
    "4-  Replace the date feature with 3 separate features (Day, Month and Year).  \n",
    "\n",
    "5-  Replace the time feature with 3 separate features (Hours, Minutes and Seconds).  \n",
    "\n",
    "6-  Apply feature scaling.  \n",
    "\n",
    "7-  Evaluate different degrees of lasso CV polynomial regression.  \n",
    "\n",
    "8-  Choose the best degree and print the errors on the test data, model coefficients and the lasso parameters.  \n",
    "\n",
    "9-  Repeat steps 4 and 5 using Ridge CV polynomial regression.  \n",
    "\n",
    "10- Repeat steps 4 and 5 using ElasticNet CV polynomial regression.  \n",
    "\n",
    "11- Compare the errors from the 3 regularization techniques, and save the best model.  \n",
    "\n",
    "12- Load the best model and test it on a sample that you manually created it.  \n"
   ]
  },
  {
   "cell_type": "markdown",
   "metadata": {
    "id": "sWkMnXZVoqG8"
   },
   "source": [
    "## Enter your IDs and Names below"
   ]
  },
  {
   "cell_type": "markdown",
   "metadata": {
    "id": "ot6QH62SoqG9"
   },
   "source": [
    "1- Omar Usama Mahmoud 46-10418 T-4\n",
    "  \n",
    "2- Hussein Youssef 46-4640 T-2"
   ]
  },
  {
   "cell_type": "markdown",
   "metadata": {
    "id": "bsZFdAtSj9_8"
   },
   "source": [
    "\n",
    "### Imports"
   ]
  },
  {
   "cell_type": "code",
   "execution_count": 1,
   "metadata": {
    "collapsed": true,
    "id": "nuN2-J1bj9_9"
   },
   "outputs": [],
   "source": [
    "import numpy as np\n",
    "import seaborn as sns\n",
    "import pandas as pd\n",
    "from matplotlib import pyplot as plt\n"
   ]
  },
  {
   "cell_type": "markdown",
   "metadata": {
    "id": "hszifOuTj9__"
   },
   "source": [
    "### 1- Read the data"
   ]
  },
  {
   "cell_type": "code",
   "execution_count": 2,
   "metadata": {
    "collapsed": true,
    "id": "ZzX469qmUTu2"
   },
   "outputs": [
    {
     "data": {
      "text/plain": "           Date      Time  CO(GT)  PT08.S1(CO)  NMHC(GT)  C6H6(GT)  \\\n0     3/10/2004  18:00:00     2.6       1360.0     150.0      11.9   \n1     3/10/2004  19:00:00     2.0       1292.0     112.0       9.4   \n2     3/10/2004  20:00:00     2.2       1402.0      88.0       9.0   \n3     3/10/2004  21:00:00     2.2       1376.0      80.0       9.2   \n4     3/10/2004  22:00:00     1.6       1272.0      51.0       6.5   \n...         ...       ...     ...          ...       ...       ...   \n9352   4/4/2005  10:00:00     3.1       1314.0       NaN      13.5   \n9353   4/4/2005  11:00:00     2.4       1163.0       NaN      11.4   \n9354   4/4/2005  12:00:00     2.4       1142.0       NaN      12.4   \n9355   4/4/2005  13:00:00     2.1       1003.0       NaN       9.5   \n9356   4/4/2005  14:00:00     2.2       1071.0       NaN      11.9   \n\n      PT08.S2(NMHC)  NOx(GT)  PT08.S3(NOx)  NO2(GT)  PT08.S4(NO2)  \\\n0            1046.0    166.0        1056.0    113.0        1692.0   \n1             955.0    103.0        1174.0     92.0        1559.0   \n2             939.0    131.0        1140.0    114.0        1555.0   \n3             948.0    172.0        1092.0    122.0        1584.0   \n4             836.0    131.0        1205.0    116.0        1490.0   \n...             ...      ...           ...      ...           ...   \n9352         1101.0    472.0         539.0    190.0        1374.0   \n9353         1027.0    353.0         604.0    179.0        1264.0   \n9354         1063.0    293.0         603.0    175.0        1241.0   \n9355          961.0    235.0         702.0    156.0        1041.0   \n9356         1047.0    265.0         654.0    168.0        1129.0   \n\n      PT08.S5(O3)     T    RH      AH  \n0          1268.0  13.6  48.9  0.7578  \n1           972.0  13.3  47.7  0.7255  \n2          1074.0  11.9  54.0  0.7502  \n3          1203.0  11.0  60.0  0.7867  \n4          1110.0  11.2  59.6  0.7888  \n...           ...   ...   ...     ...  \n9352       1729.0  21.9  29.3  0.7568  \n9353       1269.0  24.3  23.7  0.7119  \n9354       1092.0  26.9  18.3  0.6406  \n9355        770.0  28.3  13.5  0.5139  \n9356        816.0  28.5  13.1  0.5028  \n\n[9357 rows x 15 columns]",
      "text/html": "<div>\n<style scoped>\n    .dataframe tbody tr th:only-of-type {\n        vertical-align: middle;\n    }\n\n    .dataframe tbody tr th {\n        vertical-align: top;\n    }\n\n    .dataframe thead th {\n        text-align: right;\n    }\n</style>\n<table border=\"1\" class=\"dataframe\">\n  <thead>\n    <tr style=\"text-align: right;\">\n      <th></th>\n      <th>Date</th>\n      <th>Time</th>\n      <th>CO(GT)</th>\n      <th>PT08.S1(CO)</th>\n      <th>NMHC(GT)</th>\n      <th>C6H6(GT)</th>\n      <th>PT08.S2(NMHC)</th>\n      <th>NOx(GT)</th>\n      <th>PT08.S3(NOx)</th>\n      <th>NO2(GT)</th>\n      <th>PT08.S4(NO2)</th>\n      <th>PT08.S5(O3)</th>\n      <th>T</th>\n      <th>RH</th>\n      <th>AH</th>\n    </tr>\n  </thead>\n  <tbody>\n    <tr>\n      <th>0</th>\n      <td>3/10/2004</td>\n      <td>18:00:00</td>\n      <td>2.6</td>\n      <td>1360.0</td>\n      <td>150.0</td>\n      <td>11.9</td>\n      <td>1046.0</td>\n      <td>166.0</td>\n      <td>1056.0</td>\n      <td>113.0</td>\n      <td>1692.0</td>\n      <td>1268.0</td>\n      <td>13.6</td>\n      <td>48.9</td>\n      <td>0.7578</td>\n    </tr>\n    <tr>\n      <th>1</th>\n      <td>3/10/2004</td>\n      <td>19:00:00</td>\n      <td>2.0</td>\n      <td>1292.0</td>\n      <td>112.0</td>\n      <td>9.4</td>\n      <td>955.0</td>\n      <td>103.0</td>\n      <td>1174.0</td>\n      <td>92.0</td>\n      <td>1559.0</td>\n      <td>972.0</td>\n      <td>13.3</td>\n      <td>47.7</td>\n      <td>0.7255</td>\n    </tr>\n    <tr>\n      <th>2</th>\n      <td>3/10/2004</td>\n      <td>20:00:00</td>\n      <td>2.2</td>\n      <td>1402.0</td>\n      <td>88.0</td>\n      <td>9.0</td>\n      <td>939.0</td>\n      <td>131.0</td>\n      <td>1140.0</td>\n      <td>114.0</td>\n      <td>1555.0</td>\n      <td>1074.0</td>\n      <td>11.9</td>\n      <td>54.0</td>\n      <td>0.7502</td>\n    </tr>\n    <tr>\n      <th>3</th>\n      <td>3/10/2004</td>\n      <td>21:00:00</td>\n      <td>2.2</td>\n      <td>1376.0</td>\n      <td>80.0</td>\n      <td>9.2</td>\n      <td>948.0</td>\n      <td>172.0</td>\n      <td>1092.0</td>\n      <td>122.0</td>\n      <td>1584.0</td>\n      <td>1203.0</td>\n      <td>11.0</td>\n      <td>60.0</td>\n      <td>0.7867</td>\n    </tr>\n    <tr>\n      <th>4</th>\n      <td>3/10/2004</td>\n      <td>22:00:00</td>\n      <td>1.6</td>\n      <td>1272.0</td>\n      <td>51.0</td>\n      <td>6.5</td>\n      <td>836.0</td>\n      <td>131.0</td>\n      <td>1205.0</td>\n      <td>116.0</td>\n      <td>1490.0</td>\n      <td>1110.0</td>\n      <td>11.2</td>\n      <td>59.6</td>\n      <td>0.7888</td>\n    </tr>\n    <tr>\n      <th>...</th>\n      <td>...</td>\n      <td>...</td>\n      <td>...</td>\n      <td>...</td>\n      <td>...</td>\n      <td>...</td>\n      <td>...</td>\n      <td>...</td>\n      <td>...</td>\n      <td>...</td>\n      <td>...</td>\n      <td>...</td>\n      <td>...</td>\n      <td>...</td>\n      <td>...</td>\n    </tr>\n    <tr>\n      <th>9352</th>\n      <td>4/4/2005</td>\n      <td>10:00:00</td>\n      <td>3.1</td>\n      <td>1314.0</td>\n      <td>NaN</td>\n      <td>13.5</td>\n      <td>1101.0</td>\n      <td>472.0</td>\n      <td>539.0</td>\n      <td>190.0</td>\n      <td>1374.0</td>\n      <td>1729.0</td>\n      <td>21.9</td>\n      <td>29.3</td>\n      <td>0.7568</td>\n    </tr>\n    <tr>\n      <th>9353</th>\n      <td>4/4/2005</td>\n      <td>11:00:00</td>\n      <td>2.4</td>\n      <td>1163.0</td>\n      <td>NaN</td>\n      <td>11.4</td>\n      <td>1027.0</td>\n      <td>353.0</td>\n      <td>604.0</td>\n      <td>179.0</td>\n      <td>1264.0</td>\n      <td>1269.0</td>\n      <td>24.3</td>\n      <td>23.7</td>\n      <td>0.7119</td>\n    </tr>\n    <tr>\n      <th>9354</th>\n      <td>4/4/2005</td>\n      <td>12:00:00</td>\n      <td>2.4</td>\n      <td>1142.0</td>\n      <td>NaN</td>\n      <td>12.4</td>\n      <td>1063.0</td>\n      <td>293.0</td>\n      <td>603.0</td>\n      <td>175.0</td>\n      <td>1241.0</td>\n      <td>1092.0</td>\n      <td>26.9</td>\n      <td>18.3</td>\n      <td>0.6406</td>\n    </tr>\n    <tr>\n      <th>9355</th>\n      <td>4/4/2005</td>\n      <td>13:00:00</td>\n      <td>2.1</td>\n      <td>1003.0</td>\n      <td>NaN</td>\n      <td>9.5</td>\n      <td>961.0</td>\n      <td>235.0</td>\n      <td>702.0</td>\n      <td>156.0</td>\n      <td>1041.0</td>\n      <td>770.0</td>\n      <td>28.3</td>\n      <td>13.5</td>\n      <td>0.5139</td>\n    </tr>\n    <tr>\n      <th>9356</th>\n      <td>4/4/2005</td>\n      <td>14:00:00</td>\n      <td>2.2</td>\n      <td>1071.0</td>\n      <td>NaN</td>\n      <td>11.9</td>\n      <td>1047.0</td>\n      <td>265.0</td>\n      <td>654.0</td>\n      <td>168.0</td>\n      <td>1129.0</td>\n      <td>816.0</td>\n      <td>28.5</td>\n      <td>13.1</td>\n      <td>0.5028</td>\n    </tr>\n  </tbody>\n</table>\n<p>9357 rows × 15 columns</p>\n</div>"
     },
     "execution_count": 2,
     "metadata": {},
     "output_type": "execute_result"
    }
   ],
   "source": [
    "df_air=pd.read_csv('AirQualityUCI.csv')\n",
    "df_air"
   ]
  },
  {
   "cell_type": "markdown",
   "metadata": {
    "id": "TMHFhOfXuQYl"
   },
   "source": [
    "### 2- Drop unwanted labels"
   ]
  },
  {
   "cell_type": "code",
   "execution_count": 3,
   "metadata": {
    "colab": {
     "base_uri": "https://localhost:8080/",
     "height": 424
    },
    "collapsed": true,
    "id": "L7395CTWuQYm",
    "outputId": "0a25758f-33ab-4af8-c324-915d54b71983"
   },
   "outputs": [
    {
     "data": {
      "text/plain": "           Date      Time  PT08.S1(CO)  PT08.S2(NMHC)  PT08.S3(NOx)  NO2(GT)  \\\n0     3/10/2004  18:00:00       1360.0         1046.0        1056.0    113.0   \n1     3/10/2004  19:00:00       1292.0          955.0        1174.0     92.0   \n2     3/10/2004  20:00:00       1402.0          939.0        1140.0    114.0   \n3     3/10/2004  21:00:00       1376.0          948.0        1092.0    122.0   \n4     3/10/2004  22:00:00       1272.0          836.0        1205.0    116.0   \n...         ...       ...          ...            ...           ...      ...   \n9352   4/4/2005  10:00:00       1314.0         1101.0         539.0    190.0   \n9353   4/4/2005  11:00:00       1163.0         1027.0         604.0    179.0   \n9354   4/4/2005  12:00:00       1142.0         1063.0         603.0    175.0   \n9355   4/4/2005  13:00:00       1003.0          961.0         702.0    156.0   \n9356   4/4/2005  14:00:00       1071.0         1047.0         654.0    168.0   \n\n      PT08.S4(NO2)  PT08.S5(O3)     T    RH      AH  \n0           1692.0       1268.0  13.6  48.9  0.7578  \n1           1559.0        972.0  13.3  47.7  0.7255  \n2           1555.0       1074.0  11.9  54.0  0.7502  \n3           1584.0       1203.0  11.0  60.0  0.7867  \n4           1490.0       1110.0  11.2  59.6  0.7888  \n...            ...          ...   ...   ...     ...  \n9352        1374.0       1729.0  21.9  29.3  0.7568  \n9353        1264.0       1269.0  24.3  23.7  0.7119  \n9354        1241.0       1092.0  26.9  18.3  0.6406  \n9355        1041.0        770.0  28.3  13.5  0.5139  \n9356        1129.0        816.0  28.5  13.1  0.5028  \n\n[9357 rows x 11 columns]",
      "text/html": "<div>\n<style scoped>\n    .dataframe tbody tr th:only-of-type {\n        vertical-align: middle;\n    }\n\n    .dataframe tbody tr th {\n        vertical-align: top;\n    }\n\n    .dataframe thead th {\n        text-align: right;\n    }\n</style>\n<table border=\"1\" class=\"dataframe\">\n  <thead>\n    <tr style=\"text-align: right;\">\n      <th></th>\n      <th>Date</th>\n      <th>Time</th>\n      <th>PT08.S1(CO)</th>\n      <th>PT08.S2(NMHC)</th>\n      <th>PT08.S3(NOx)</th>\n      <th>NO2(GT)</th>\n      <th>PT08.S4(NO2)</th>\n      <th>PT08.S5(O3)</th>\n      <th>T</th>\n      <th>RH</th>\n      <th>AH</th>\n    </tr>\n  </thead>\n  <tbody>\n    <tr>\n      <th>0</th>\n      <td>3/10/2004</td>\n      <td>18:00:00</td>\n      <td>1360.0</td>\n      <td>1046.0</td>\n      <td>1056.0</td>\n      <td>113.0</td>\n      <td>1692.0</td>\n      <td>1268.0</td>\n      <td>13.6</td>\n      <td>48.9</td>\n      <td>0.7578</td>\n    </tr>\n    <tr>\n      <th>1</th>\n      <td>3/10/2004</td>\n      <td>19:00:00</td>\n      <td>1292.0</td>\n      <td>955.0</td>\n      <td>1174.0</td>\n      <td>92.0</td>\n      <td>1559.0</td>\n      <td>972.0</td>\n      <td>13.3</td>\n      <td>47.7</td>\n      <td>0.7255</td>\n    </tr>\n    <tr>\n      <th>2</th>\n      <td>3/10/2004</td>\n      <td>20:00:00</td>\n      <td>1402.0</td>\n      <td>939.0</td>\n      <td>1140.0</td>\n      <td>114.0</td>\n      <td>1555.0</td>\n      <td>1074.0</td>\n      <td>11.9</td>\n      <td>54.0</td>\n      <td>0.7502</td>\n    </tr>\n    <tr>\n      <th>3</th>\n      <td>3/10/2004</td>\n      <td>21:00:00</td>\n      <td>1376.0</td>\n      <td>948.0</td>\n      <td>1092.0</td>\n      <td>122.0</td>\n      <td>1584.0</td>\n      <td>1203.0</td>\n      <td>11.0</td>\n      <td>60.0</td>\n      <td>0.7867</td>\n    </tr>\n    <tr>\n      <th>4</th>\n      <td>3/10/2004</td>\n      <td>22:00:00</td>\n      <td>1272.0</td>\n      <td>836.0</td>\n      <td>1205.0</td>\n      <td>116.0</td>\n      <td>1490.0</td>\n      <td>1110.0</td>\n      <td>11.2</td>\n      <td>59.6</td>\n      <td>0.7888</td>\n    </tr>\n    <tr>\n      <th>...</th>\n      <td>...</td>\n      <td>...</td>\n      <td>...</td>\n      <td>...</td>\n      <td>...</td>\n      <td>...</td>\n      <td>...</td>\n      <td>...</td>\n      <td>...</td>\n      <td>...</td>\n      <td>...</td>\n    </tr>\n    <tr>\n      <th>9352</th>\n      <td>4/4/2005</td>\n      <td>10:00:00</td>\n      <td>1314.0</td>\n      <td>1101.0</td>\n      <td>539.0</td>\n      <td>190.0</td>\n      <td>1374.0</td>\n      <td>1729.0</td>\n      <td>21.9</td>\n      <td>29.3</td>\n      <td>0.7568</td>\n    </tr>\n    <tr>\n      <th>9353</th>\n      <td>4/4/2005</td>\n      <td>11:00:00</td>\n      <td>1163.0</td>\n      <td>1027.0</td>\n      <td>604.0</td>\n      <td>179.0</td>\n      <td>1264.0</td>\n      <td>1269.0</td>\n      <td>24.3</td>\n      <td>23.7</td>\n      <td>0.7119</td>\n    </tr>\n    <tr>\n      <th>9354</th>\n      <td>4/4/2005</td>\n      <td>12:00:00</td>\n      <td>1142.0</td>\n      <td>1063.0</td>\n      <td>603.0</td>\n      <td>175.0</td>\n      <td>1241.0</td>\n      <td>1092.0</td>\n      <td>26.9</td>\n      <td>18.3</td>\n      <td>0.6406</td>\n    </tr>\n    <tr>\n      <th>9355</th>\n      <td>4/4/2005</td>\n      <td>13:00:00</td>\n      <td>1003.0</td>\n      <td>961.0</td>\n      <td>702.0</td>\n      <td>156.0</td>\n      <td>1041.0</td>\n      <td>770.0</td>\n      <td>28.3</td>\n      <td>13.5</td>\n      <td>0.5139</td>\n    </tr>\n    <tr>\n      <th>9356</th>\n      <td>4/4/2005</td>\n      <td>14:00:00</td>\n      <td>1071.0</td>\n      <td>1047.0</td>\n      <td>654.0</td>\n      <td>168.0</td>\n      <td>1129.0</td>\n      <td>816.0</td>\n      <td>28.5</td>\n      <td>13.1</td>\n      <td>0.5028</td>\n    </tr>\n  </tbody>\n</table>\n<p>9357 rows × 11 columns</p>\n</div>"
     },
     "execution_count": 3,
     "metadata": {},
     "output_type": "execute_result"
    }
   ],
   "source": [
    "col_drop=['CO(GT)','NMHC(GT)','C6H6(GT)','NOx(GT)']\n",
    "df_drop=df_air.drop(col_drop,axis=1)\n",
    "df_drop"
   ]
  },
  {
   "cell_type": "markdown",
   "metadata": {
    "id": "rMSYDzn1uQYm"
   },
   "source": [
    "### 3- Handle missing data"
   ]
  },
  {
   "cell_type": "code",
   "execution_count": 4,
   "metadata": {
    "colab": {
     "base_uri": "https://localhost:8080/"
    },
    "collapsed": true,
    "id": "FEai7yH9uQYn",
    "outputId": "1be8e8b8-79b4-4f37-edcb-1dd1312dff4d"
   },
   "outputs": [
    {
     "data": {
      "text/plain": "Date                0\nTime                0\nPT08.S1(CO)       366\nPT08.S2(NMHC)     366\nPT08.S3(NOx)      366\nNO2(GT)          1642\nPT08.S4(NO2)      366\nPT08.S5(O3)       366\nT                 366\nRH                366\nAH                366\ndtype: int64"
     },
     "execution_count": 4,
     "metadata": {},
     "output_type": "execute_result"
    }
   ],
   "source": [
    "df_drop.isnull().sum()"
   ]
  },
  {
   "cell_type": "code",
   "execution_count": 65,
   "outputs": [
    {
     "data": {
      "text/plain": "array([113.,  92., 114., 122., 116.,  96.,  77.,  76.,  60.,  nan,  34.,\n        28.,  48.,  82., 112., 101.,  98.,  95., 128., 126., 131., 135.,\n       151., 172., 165., 136.,  85.,  53.,  97., 110.,  91.,  32.,  44.,\n        71., 104., 141., 143., 123., 120., 119., 149., 145., 170., 139.,\n       134.,  83.,  65., 158., 161., 124., 102., 125., 148., 159., 130.,\n       129.,  70.,  63.,  67.,  84., 107., 121., 157., 173., 146.,  99.,\n        93.,  88.,  74.,  80.,  89., 155., 111., 162., 187., 103.,  61.,\n        59.,  52.,  64., 150., 154., 133., 137., 177., 138., 117.,  90.,\n        79.,  40., 108., 127., 142., 153., 194., 182., 180.,  78.,  57.,\n       152., 169., 156., 168., 176., 106., 166., 147., 144., 109.,  81.,\n        55., 105.,  87.,  94.,  66.,  36.,  62.,  86.,  33.,  27.,  23.,\n        46., 115.,  72.,  31.,  22.,  47., 132., 100.,  54.,  75.,  58.,\n        20.,  51.,  73.,  69.,  38.,  26., 118.,  49.,  50., 164.,  39.,\n        35.,  30.,  19., 171.,  68.,  25.,  56.,  29., 140., 196., 186.,\n        37.,  45.,  43.,  17., 160.,  42.,  41., 163., 179.,  21.,   8.,\n        24., 174., 183., 167., 222., 206., 178., 211.,  16.,  18., 198.,\n       181., 202., 190., 226., 207., 197., 175., 203., 192., 189., 233.,\n       223., 184., 200., 193.,   5., 185.,  11.,  14.,  12., 188., 212.,\n       220., 208., 225., 191., 205., 204., 210., 218., 213.,   2.,   7.,\n         3.,   9., 209., 201.,  13., 199., 219., 272., 288., 254., 267.,\n       249., 282., 278., 251., 214., 231., 221., 243., 239., 216., 232.,\n       215., 224., 235., 237., 240., 245., 227., 255., 269., 217., 257.,\n       248., 229., 236., 247., 242., 252., 228., 234., 244., 230., 246.,\n       195., 283., 256., 261., 270., 285., 275., 309., 322., 333., 241.,\n       306., 301., 274., 310., 281., 253., 289., 250., 276., 296., 291.,\n       312., 340., 326., 284., 265., 262., 260., 238., 295.])"
     },
     "execution_count": 65,
     "metadata": {},
     "output_type": "execute_result"
    }
   ],
   "source": [
    "df_drop['NO2(GT)'].unique()\n"
   ],
   "metadata": {
    "collapsed": false,
    "pycharm": {
     "name": "#%%\n"
    }
   }
  },
  {
   "cell_type": "code",
   "execution_count": 4,
   "metadata": {
    "colab": {
     "background_save": true
    },
    "id": "j0pZVJP5ugsk"
   },
   "outputs": [],
   "source": [
    "def percent_missing(df):\n",
    "    percent_nan = 100* df.isnull().sum() / len(df)\n",
    "    percent_nan = percent_nan[percent_nan>0].sort_values()\n",
    "    return percent_nan"
   ]
  },
  {
   "cell_type": "code",
   "execution_count": 6,
   "metadata": {
    "colab": {
     "base_uri": "https://localhost:8080/",
     "height": 334
    },
    "id": "l049X6PzumtY",
    "outputId": "9e9eb04d-75b7-4f25-dab2-21276ac844b7"
   },
   "outputs": [
    {
     "data": {
      "text/plain": "<Figure size 432x288 with 1 Axes>",
      "image/png": "[encoded data removed]"
     },
     "metadata": {
      "needs_background": "light"
     },
     "output_type": "display_data"
    }
   ],
   "source": [
    "percent_nan = percent_missing(df_drop)\n",
    "sns.barplot(x=percent_nan.index,y=percent_nan)\n",
    "plt.xticks(rotation=90);\n"
   ]
  },
  {
   "cell_type": "code",
   "execution_count": 5,
   "metadata": {
    "colab": {
     "base_uri": "https://localhost:8080/",
     "height": 424
    },
    "id": "Kwd4U_ZTvCxn",
    "outputId": "d835f024-6384-4ede-a584-5938c2df4c0f"
   },
   "outputs": [
    {
     "data": {
      "text/plain": "           Date      Time  PT08.S1(CO)  PT08.S2(NMHC)  PT08.S3(NOx)  NO2(GT)  \\\n0     3/10/2004  18:00:00       1360.0         1046.0        1056.0    113.0   \n1     3/10/2004  19:00:00       1292.0          955.0        1174.0     92.0   \n2     3/10/2004  20:00:00       1402.0          939.0        1140.0    114.0   \n3     3/10/2004  21:00:00       1376.0          948.0        1092.0    122.0   \n4     3/10/2004  22:00:00       1272.0          836.0        1205.0    116.0   \n...         ...       ...          ...            ...           ...      ...   \n9352   4/4/2005  10:00:00       1314.0         1101.0         539.0    190.0   \n9353   4/4/2005  11:00:00       1163.0         1027.0         604.0    179.0   \n9354   4/4/2005  12:00:00       1142.0         1063.0         603.0    175.0   \n9355   4/4/2005  13:00:00       1003.0          961.0         702.0    156.0   \n9356   4/4/2005  14:00:00       1071.0         1047.0         654.0    168.0   \n\n      PT08.S4(NO2)  PT08.S5(O3)     T    RH      AH  \n0           1692.0       1268.0  13.6  48.9  0.7578  \n1           1559.0        972.0  13.3  47.7  0.7255  \n2           1555.0       1074.0  11.9  54.0  0.7502  \n3           1584.0       1203.0  11.0  60.0  0.7867  \n4           1490.0       1110.0  11.2  59.6  0.7888  \n...            ...          ...   ...   ...     ...  \n9352        1374.0       1729.0  21.9  29.3  0.7568  \n9353        1264.0       1269.0  24.3  23.7  0.7119  \n9354        1241.0       1092.0  26.9  18.3  0.6406  \n9355        1041.0        770.0  28.3  13.5  0.5139  \n9356        1129.0        816.0  28.5  13.1  0.5028  \n\n[7715 rows x 11 columns]",
      "text/html": "<div>\n<style scoped>\n    .dataframe tbody tr th:only-of-type {\n        vertical-align: middle;\n    }\n\n    .dataframe tbody tr th {\n        vertical-align: top;\n    }\n\n    .dataframe thead th {\n        text-align: right;\n    }\n</style>\n<table border=\"1\" class=\"dataframe\">\n  <thead>\n    <tr style=\"text-align: right;\">\n      <th></th>\n      <th>Date</th>\n      <th>Time</th>\n      <th>PT08.S1(CO)</th>\n      <th>PT08.S2(NMHC)</th>\n      <th>PT08.S3(NOx)</th>\n      <th>NO2(GT)</th>\n      <th>PT08.S4(NO2)</th>\n      <th>PT08.S5(O3)</th>\n      <th>T</th>\n      <th>RH</th>\n      <th>AH</th>\n    </tr>\n  </thead>\n  <tbody>\n    <tr>\n      <th>0</th>\n      <td>3/10/2004</td>\n      <td>18:00:00</td>\n      <td>1360.0</td>\n      <td>1046.0</td>\n      <td>1056.0</td>\n      <td>113.0</td>\n      <td>1692.0</td>\n      <td>1268.0</td>\n      <td>13.6</td>\n      <td>48.9</td>\n      <td>0.7578</td>\n    </tr>\n    <tr>\n      <th>1</th>\n      <td>3/10/2004</td>\n      <td>19:00:00</td>\n      <td>1292.0</td>\n      <td>955.0</td>\n      <td>1174.0</td>\n      <td>92.0</td>\n      <td>1559.0</td>\n      <td>972.0</td>\n      <td>13.3</td>\n      <td>47.7</td>\n      <td>0.7255</td>\n    </tr>\n    <tr>\n      <th>2</th>\n      <td>3/10/2004</td>\n      <td>20:00:00</td>\n      <td>1402.0</td>\n      <td>939.0</td>\n      <td>1140.0</td>\n      <td>114.0</td>\n      <td>1555.0</td>\n      <td>1074.0</td>\n      <td>11.9</td>\n      <td>54.0</td>\n      <td>0.7502</td>\n    </tr>\n    <tr>\n      <th>3</th>\n      <td>3/10/2004</td>\n      <td>21:00:00</td>\n      <td>1376.0</td>\n      <td>948.0</td>\n      <td>1092.0</td>\n      <td>122.0</td>\n      <td>1584.0</td>\n      <td>1203.0</td>\n      <td>11.0</td>\n      <td>60.0</td>\n      <td>0.7867</td>\n    </tr>\n    <tr>\n      <th>4</th>\n      <td>3/10/2004</td>\n      <td>22:00:00</td>\n      <td>1272.0</td>\n      <td>836.0</td>\n      <td>1205.0</td>\n      <td>116.0</td>\n      <td>1490.0</td>\n      <td>1110.0</td>\n      <td>11.2</td>\n      <td>59.6</td>\n      <td>0.7888</td>\n    </tr>\n    <tr>\n      <th>...</th>\n      <td>...</td>\n      <td>...</td>\n      <td>...</td>\n      <td>...</td>\n      <td>...</td>\n      <td>...</td>\n      <td>...</td>\n      <td>...</td>\n      <td>...</td>\n      <td>...</td>\n      <td>...</td>\n    </tr>\n    <tr>\n      <th>9352</th>\n      <td>4/4/2005</td>\n      <td>10:00:00</td>\n      <td>1314.0</td>\n      <td>1101.0</td>\n      <td>539.0</td>\n      <td>190.0</td>\n      <td>1374.0</td>\n      <td>1729.0</td>\n      <td>21.9</td>\n      <td>29.3</td>\n      <td>0.7568</td>\n    </tr>\n    <tr>\n      <th>9353</th>\n      <td>4/4/2005</td>\n      <td>11:00:00</td>\n      <td>1163.0</td>\n      <td>1027.0</td>\n      <td>604.0</td>\n      <td>179.0</td>\n      <td>1264.0</td>\n      <td>1269.0</td>\n      <td>24.3</td>\n      <td>23.7</td>\n      <td>0.7119</td>\n    </tr>\n    <tr>\n      <th>9354</th>\n      <td>4/4/2005</td>\n      <td>12:00:00</td>\n      <td>1142.0</td>\n      <td>1063.0</td>\n      <td>603.0</td>\n      <td>175.0</td>\n      <td>1241.0</td>\n      <td>1092.0</td>\n      <td>26.9</td>\n      <td>18.3</td>\n      <td>0.6406</td>\n    </tr>\n    <tr>\n      <th>9355</th>\n      <td>4/4/2005</td>\n      <td>13:00:00</td>\n      <td>1003.0</td>\n      <td>961.0</td>\n      <td>702.0</td>\n      <td>156.0</td>\n      <td>1041.0</td>\n      <td>770.0</td>\n      <td>28.3</td>\n      <td>13.5</td>\n      <td>0.5139</td>\n    </tr>\n    <tr>\n      <th>9356</th>\n      <td>4/4/2005</td>\n      <td>14:00:00</td>\n      <td>1071.0</td>\n      <td>1047.0</td>\n      <td>654.0</td>\n      <td>168.0</td>\n      <td>1129.0</td>\n      <td>816.0</td>\n      <td>28.5</td>\n      <td>13.1</td>\n      <td>0.5028</td>\n    </tr>\n  </tbody>\n</table>\n<p>7715 rows × 11 columns</p>\n</div>"
     },
     "execution_count": 5,
     "metadata": {},
     "output_type": "execute_result"
    }
   ],
   "source": [
    "cond=df_drop[df_drop['NO2(GT)'].isna()].index\n",
    "df_drop_label_na=df_drop.drop(cond)\n",
    "df_drop_label_na\n"
   ]
  },
  {
   "cell_type": "code",
   "execution_count": 66,
   "metadata": {
    "colab": {
     "base_uri": "https://localhost:8080/",
     "height": 334
    },
    "id": "RZpeHmgIwtbX",
    "outputId": "81f8348b-695c-4d16-cdea-d5ce69ca90d9"
   },
   "outputs": [
    {
     "data": {
      "text/plain": "<Figure size 432x288 with 1 Axes>",
      "image/png": "[encoded data removed]"
     },
     "metadata": {
      "needs_background": "light"
     },
     "output_type": "display_data"
    }
   ],
   "source": [
    "percent_nan = percent_missing(df_drop_label_na)\n",
    "sns.barplot(x=percent_nan.index,y=percent_nan)\n",
    "plt.xticks(rotation=90);"
   ]
  },
  {
   "cell_type": "code",
   "execution_count": 11,
   "metadata": {
    "colab": {
     "base_uri": "https://localhost:8080/"
    },
    "id": "zIF0mr9DxZZY",
    "outputId": "d66335b4-ae6a-4460-cfec-179d10710f5c"
   },
   "outputs": [
    {
     "name": "stdout",
     "output_type": "stream",
     "text": [
      "<class 'pandas.core.frame.DataFrame'>\n",
      "Int64Index: 7715 entries, 0 to 9356\n",
      "Data columns (total 11 columns):\n",
      " #   Column         Non-Null Count  Dtype  \n",
      "---  ------         --------------  -----  \n",
      " 0   Date           7715 non-null   object \n",
      " 1   Time           7715 non-null   object \n",
      " 2   PT08.S1(CO)    7393 non-null   float64\n",
      " 3   PT08.S2(NMHC)  7393 non-null   float64\n",
      " 4   PT08.S3(NOx)   7393 non-null   float64\n",
      " 5   NO2(GT)        7715 non-null   float64\n",
      " 6   PT08.S4(NO2)   7393 non-null   float64\n",
      " 7   PT08.S5(O3)    7393 non-null   float64\n",
      " 8   T              7393 non-null   float64\n",
      " 9   RH             7393 non-null   float64\n",
      " 10  AH             7393 non-null   float64\n",
      "dtypes: float64(9), object(2)\n",
      "memory usage: 723.3+ KB\n"
     ]
    }
   ],
   "source": [
    "df_drop_label_na.info()"
   ]
  },
  {
   "cell_type": "code",
   "execution_count": 67,
   "metadata": {
    "id": "iV7BohYIw_9s"
   },
   "outputs": [],
   "source": [
    "df_drop_label_na['PT08.S1(CO)']=df_drop_label_na.groupby('Date')['PT08.S1(CO)'].transform(lambda val: val.fillna(val.mean()))\n",
    "df_drop_label_na['PT08.S2(NMHC)']=df_drop_label_na.groupby('Date')['PT08.S2(NMHC)'].transform(lambda val: val.fillna(val.mean()))\n",
    "df_drop_label_na['PT08.S3(NOx)']=df_drop_label_na.groupby('Date')['PT08.S3(NOx)'].transform(lambda val: val.fillna(val.mean()))\n",
    "df_drop_label_na['PT08.S4(NO2)']=df_drop_label_na.groupby('Date')['PT08.S4(NO2)'].transform(lambda val: val.fillna(val.mean()))\n",
    "df_drop_label_na['PT08.S5(O3)']=df_drop_label_na.groupby('Date')['PT08.S5(O3)'].transform(lambda val: val.fillna(val.mean()))\n",
    "df_drop_label_na['T']=df_drop_label_na.groupby('Date')['T'].transform(lambda val: val.fillna(val.mean()))\n",
    "df_drop_label_na['RH']=df_drop_label_na.groupby('Date')['RH'].transform(lambda val: val.fillna(val.mean()))\n",
    "df_drop_label_na['AH']=df_drop_label_na.groupby('Date')['AH'].transform(lambda val: val.fillna(val.mean()))\n"
   ]
  },
  {
   "cell_type": "code",
   "execution_count": 68,
   "metadata": {
    "colab": {
     "base_uri": "https://localhost:8080/",
     "height": 334
    },
    "id": "HU-pR9ZV0JIA",
    "outputId": "93b538ea-4361-4bbb-c4e2-4959e1360993"
   },
   "outputs": [
    {
     "data": {
      "text/plain": "<Figure size 432x288 with 1 Axes>",
      "image/png": "[encoded data removed]"
     },
     "metadata": {
      "needs_background": "light"
     },
     "output_type": "display_data"
    }
   ],
   "source": [
    "percent_nan = percent_missing(df_drop_label_na)\n",
    "sns.barplot(x=percent_nan.index,y=percent_nan)\n",
    "plt.xticks(rotation=90);"
   ]
  },
  {
   "cell_type": "code",
   "execution_count": 75,
   "metadata": {
    "colab": {
     "base_uri": "https://localhost:8080/"
    },
    "id": "mQAleG3G0VGz",
    "outputId": "06f8a625-0178-43fb-b374-da202755c8ed"
   },
   "outputs": [
    {
     "data": {
      "text/plain": "Date               0\nTime               0\nPT08.S1(CO)      184\nPT08.S2(NMHC)    184\nPT08.S3(NOx)     184\nNO2(GT)            0\nPT08.S4(NO2)     184\nPT08.S5(O3)      184\nT                184\nRH               184\nAH               184\ndtype: int64"
     },
     "execution_count": 75,
     "metadata": {},
     "output_type": "execute_result"
    }
   ],
   "source": [
    "df_drop_label_na.isnull().sum()"
   ]
  },
  {
   "cell_type": "code",
   "execution_count": 69,
   "metadata": {
    "colab": {
     "base_uri": "https://localhost:8080/",
     "height": 424
    },
    "id": "Q6Er8qfE0wfZ",
    "outputId": "1dc48d14-f1b7-4f3e-a268-3dfd0917127d"
   },
   "outputs": [
    {
     "data": {
      "text/plain": "           Date      Time  PT08.S1(CO)  PT08.S2(NMHC)  PT08.S3(NOx)  NO2(GT)  \\\n0     3/10/2004  18:00:00       1360.0         1046.0        1056.0    113.0   \n1     3/10/2004  19:00:00       1292.0          955.0        1174.0     92.0   \n2     3/10/2004  20:00:00       1402.0          939.0        1140.0    114.0   \n3     3/10/2004  21:00:00       1376.0          948.0        1092.0    122.0   \n4     3/10/2004  22:00:00       1272.0          836.0        1205.0    116.0   \n...         ...       ...          ...            ...           ...      ...   \n9352   4/4/2005  10:00:00       1314.0         1101.0         539.0    190.0   \n9353   4/4/2005  11:00:00       1163.0         1027.0         604.0    179.0   \n9354   4/4/2005  12:00:00       1142.0         1063.0         603.0    175.0   \n9355   4/4/2005  13:00:00       1003.0          961.0         702.0    156.0   \n9356   4/4/2005  14:00:00       1071.0         1047.0         654.0    168.0   \n\n      PT08.S4(NO2)  PT08.S5(O3)     T    RH      AH  \n0           1692.0       1268.0  13.6  48.9  0.7578  \n1           1559.0        972.0  13.3  47.7  0.7255  \n2           1555.0       1074.0  11.9  54.0  0.7502  \n3           1584.0       1203.0  11.0  60.0  0.7867  \n4           1490.0       1110.0  11.2  59.6  0.7888  \n...            ...          ...   ...   ...     ...  \n9352        1374.0       1729.0  21.9  29.3  0.7568  \n9353        1264.0       1269.0  24.3  23.7  0.7119  \n9354        1241.0       1092.0  26.9  18.3  0.6406  \n9355        1041.0        770.0  28.3  13.5  0.5139  \n9356        1129.0        816.0  28.5  13.1  0.5028  \n\n[7531 rows x 11 columns]",
      "text/html": "<div>\n<style scoped>\n    .dataframe tbody tr th:only-of-type {\n        vertical-align: middle;\n    }\n\n    .dataframe tbody tr th {\n        vertical-align: top;\n    }\n\n    .dataframe thead th {\n        text-align: right;\n    }\n</style>\n<table border=\"1\" class=\"dataframe\">\n  <thead>\n    <tr style=\"text-align: right;\">\n      <th></th>\n      <th>Date</th>\n      <th>Time</th>\n      <th>PT08.S1(CO)</th>\n      <th>PT08.S2(NMHC)</th>\n      <th>PT08.S3(NOx)</th>\n      <th>NO2(GT)</th>\n      <th>PT08.S4(NO2)</th>\n      <th>PT08.S5(O3)</th>\n      <th>T</th>\n      <th>RH</th>\n      <th>AH</th>\n    </tr>\n  </thead>\n  <tbody>\n    <tr>\n      <th>0</th>\n      <td>3/10/2004</td>\n      <td>18:00:00</td>\n      <td>1360.0</td>\n      <td>1046.0</td>\n      <td>1056.0</td>\n      <td>113.0</td>\n      <td>1692.0</td>\n      <td>1268.0</td>\n      <td>13.6</td>\n      <td>48.9</td>\n      <td>0.7578</td>\n    </tr>\n    <tr>\n      <th>1</th>\n      <td>3/10/2004</td>\n      <td>19:00:00</td>\n      <td>1292.0</td>\n      <td>955.0</td>\n      <td>1174.0</td>\n      <td>92.0</td>\n      <td>1559.0</td>\n      <td>972.0</td>\n      <td>13.3</td>\n      <td>47.7</td>\n      <td>0.7255</td>\n    </tr>\n    <tr>\n      <th>2</th>\n      <td>3/10/2004</td>\n      <td>20:00:00</td>\n      <td>1402.0</td>\n      <td>939.0</td>\n      <td>1140.0</td>\n      <td>114.0</td>\n      <td>1555.0</td>\n      <td>1074.0</td>\n      <td>11.9</td>\n      <td>54.0</td>\n      <td>0.7502</td>\n    </tr>\n    <tr>\n      <th>3</th>\n      <td>3/10/2004</td>\n      <td>21:00:00</td>\n      <td>1376.0</td>\n      <td>948.0</td>\n      <td>1092.0</td>\n      <td>122.0</td>\n      <td>1584.0</td>\n      <td>1203.0</td>\n      <td>11.0</td>\n      <td>60.0</td>\n      <td>0.7867</td>\n    </tr>\n    <tr>\n      <th>4</th>\n      <td>3/10/2004</td>\n      <td>22:00:00</td>\n      <td>1272.0</td>\n      <td>836.0</td>\n      <td>1205.0</td>\n      <td>116.0</td>\n      <td>1490.0</td>\n      <td>1110.0</td>\n      <td>11.2</td>\n      <td>59.6</td>\n      <td>0.7888</td>\n    </tr>\n    <tr>\n      <th>...</th>\n      <td>...</td>\n      <td>...</td>\n      <td>...</td>\n      <td>...</td>\n      <td>...</td>\n      <td>...</td>\n      <td>...</td>\n      <td>...</td>\n      <td>...</td>\n      <td>...</td>\n      <td>...</td>\n    </tr>\n    <tr>\n      <th>9352</th>\n      <td>4/4/2005</td>\n      <td>10:00:00</td>\n      <td>1314.0</td>\n      <td>1101.0</td>\n      <td>539.0</td>\n      <td>190.0</td>\n      <td>1374.0</td>\n      <td>1729.0</td>\n      <td>21.9</td>\n      <td>29.3</td>\n      <td>0.7568</td>\n    </tr>\n    <tr>\n      <th>9353</th>\n      <td>4/4/2005</td>\n      <td>11:00:00</td>\n      <td>1163.0</td>\n      <td>1027.0</td>\n      <td>604.0</td>\n      <td>179.0</td>\n      <td>1264.0</td>\n      <td>1269.0</td>\n      <td>24.3</td>\n      <td>23.7</td>\n      <td>0.7119</td>\n    </tr>\n    <tr>\n      <th>9354</th>\n      <td>4/4/2005</td>\n      <td>12:00:00</td>\n      <td>1142.0</td>\n      <td>1063.0</td>\n      <td>603.0</td>\n      <td>175.0</td>\n      <td>1241.0</td>\n      <td>1092.0</td>\n      <td>26.9</td>\n      <td>18.3</td>\n      <td>0.6406</td>\n    </tr>\n    <tr>\n      <th>9355</th>\n      <td>4/4/2005</td>\n      <td>13:00:00</td>\n      <td>1003.0</td>\n      <td>961.0</td>\n      <td>702.0</td>\n      <td>156.0</td>\n      <td>1041.0</td>\n      <td>770.0</td>\n      <td>28.3</td>\n      <td>13.5</td>\n      <td>0.5139</td>\n    </tr>\n    <tr>\n      <th>9356</th>\n      <td>4/4/2005</td>\n      <td>14:00:00</td>\n      <td>1071.0</td>\n      <td>1047.0</td>\n      <td>654.0</td>\n      <td>168.0</td>\n      <td>1129.0</td>\n      <td>816.0</td>\n      <td>28.5</td>\n      <td>13.1</td>\n      <td>0.5028</td>\n    </tr>\n  </tbody>\n</table>\n<p>7531 rows × 11 columns</p>\n</div>"
     },
     "execution_count": 69,
     "metadata": {},
     "output_type": "execute_result"
    }
   ],
   "source": [
    "df_drop_complete=df_drop_label_na.dropna(axis=0,how='any')\n",
    "\n",
    "df_drop_complete\n"
   ]
  },
  {
   "cell_type": "code",
   "execution_count": null,
   "metadata": {
    "id": "IBUWe-uw1bai"
   },
   "outputs": [],
   "source": [
    "#df_drop_label_na['PT08.S1(CO)'].fillna(df_drop_label_na['PT08.S1(CO)'].mean(),inplace=True)\n",
    "#df_drop_label_na['PT08.S2(NMHC)'].fillna(df_drop_label_na['PT08.S2(NMHC)'].mean(),inplace=True)\n",
    "#df_drop_label_na['PT08.S3(NOx)'].fillna(df_drop_label_na['PT08.S3(NOx)'].mean(),inplace=True)\n",
    "#df_drop_label_na['PT08.S4(NO2)'].fillna(df_drop_label_na['PT08.S4(NO2)'].mean(),inplace=True)\n",
    "#df_drop_label_na['PT08.S5(O3)'].fillna(df_drop_label_na['PT08.S5(O3)'].mean(),inplace=True)\n",
    "#df_drop_label_na['T'].fillna(df_drop_label_na['T'].mean(),inplace=True)\n",
    "#df_drop_label_na['RH'].fillna(df_drop_label_na['RH'].mean(),inplace=True)\n",
    "#df_drop_label_na['AH'].fillna(df_drop_label_na['AH'].mean(),inplace=True)\n",
    "\n",
    "\n",
    "\n"
   ]
  },
  {
   "cell_type": "code",
   "execution_count": 70,
   "metadata": {
    "colab": {
     "base_uri": "https://localhost:8080/"
    },
    "id": "jIpdNEIa26zd",
    "outputId": "8489067d-fa3c-4c5d-ea55-c7f208db467b"
   },
   "outputs": [
    {
     "data": {
      "text/plain": "Date             0\nTime             0\nPT08.S1(CO)      0\nPT08.S2(NMHC)    0\nPT08.S3(NOx)     0\nNO2(GT)          0\nPT08.S4(NO2)     0\nPT08.S5(O3)      0\nT                0\nRH               0\nAH               0\ndtype: int64"
     },
     "execution_count": 70,
     "metadata": {},
     "output_type": "execute_result"
    }
   ],
   "source": [
    "df_drop_complete.isnull().sum()"
   ]
  },
  {
   "cell_type": "code",
   "execution_count": 9,
   "metadata": {
    "colab": {
     "base_uri": "https://localhost:8080/",
     "height": 424
    },
    "id": "lo7X7PUT3ie9",
    "outputId": "69bdfd83-7619-4139-d5db-b05dc5afb419"
   },
   "outputs": [
    {
     "data": {
      "text/plain": "           Date      Time  PT08.S1(CO)  PT08.S2(NMHC)  PT08.S3(NOx)  NO2(GT)  \\\n0     3/10/2004  18:00:00       1360.0         1046.0        1056.0    113.0   \n1     3/10/2004  19:00:00       1292.0          955.0        1174.0     92.0   \n2     3/10/2004  20:00:00       1402.0          939.0        1140.0    114.0   \n3     3/10/2004  21:00:00       1376.0          948.0        1092.0    122.0   \n4     3/10/2004  22:00:00       1272.0          836.0        1205.0    116.0   \n...         ...       ...          ...            ...           ...      ...   \n9352   4/4/2005  10:00:00       1314.0         1101.0         539.0    190.0   \n9353   4/4/2005  11:00:00       1163.0         1027.0         604.0    179.0   \n9354   4/4/2005  12:00:00       1142.0         1063.0         603.0    175.0   \n9355   4/4/2005  13:00:00       1003.0          961.0         702.0    156.0   \n9356   4/4/2005  14:00:00       1071.0         1047.0         654.0    168.0   \n\n      PT08.S4(NO2)  PT08.S5(O3)     T    RH      AH  \n0           1692.0       1268.0  13.6  48.9  0.7578  \n1           1559.0        972.0  13.3  47.7  0.7255  \n2           1555.0       1074.0  11.9  54.0  0.7502  \n3           1584.0       1203.0  11.0  60.0  0.7867  \n4           1490.0       1110.0  11.2  59.6  0.7888  \n...            ...          ...   ...   ...     ...  \n9352        1374.0       1729.0  21.9  29.3  0.7568  \n9353        1264.0       1269.0  24.3  23.7  0.7119  \n9354        1241.0       1092.0  26.9  18.3  0.6406  \n9355        1041.0        770.0  28.3  13.5  0.5139  \n9356        1129.0        816.0  28.5  13.1  0.5028  \n\n[7393 rows x 11 columns]",
      "text/html": "<div>\n<style scoped>\n    .dataframe tbody tr th:only-of-type {\n        vertical-align: middle;\n    }\n\n    .dataframe tbody tr th {\n        vertical-align: top;\n    }\n\n    .dataframe thead th {\n        text-align: right;\n    }\n</style>\n<table border=\"1\" class=\"dataframe\">\n  <thead>\n    <tr style=\"text-align: right;\">\n      <th></th>\n      <th>Date</th>\n      <th>Time</th>\n      <th>PT08.S1(CO)</th>\n      <th>PT08.S2(NMHC)</th>\n      <th>PT08.S3(NOx)</th>\n      <th>NO2(GT)</th>\n      <th>PT08.S4(NO2)</th>\n      <th>PT08.S5(O3)</th>\n      <th>T</th>\n      <th>RH</th>\n      <th>AH</th>\n    </tr>\n  </thead>\n  <tbody>\n    <tr>\n      <th>0</th>\n      <td>3/10/2004</td>\n      <td>18:00:00</td>\n      <td>1360.0</td>\n      <td>1046.0</td>\n      <td>1056.0</td>\n      <td>113.0</td>\n      <td>1692.0</td>\n      <td>1268.0</td>\n      <td>13.6</td>\n      <td>48.9</td>\n      <td>0.7578</td>\n    </tr>\n    <tr>\n      <th>1</th>\n      <td>3/10/2004</td>\n      <td>19:00:00</td>\n      <td>1292.0</td>\n      <td>955.0</td>\n      <td>1174.0</td>\n      <td>92.0</td>\n      <td>1559.0</td>\n      <td>972.0</td>\n      <td>13.3</td>\n      <td>47.7</td>\n      <td>0.7255</td>\n    </tr>\n    <tr>\n      <th>2</th>\n      <td>3/10/2004</td>\n      <td>20:00:00</td>\n      <td>1402.0</td>\n      <td>939.0</td>\n      <td>1140.0</td>\n      <td>114.0</td>\n      <td>1555.0</td>\n      <td>1074.0</td>\n      <td>11.9</td>\n      <td>54.0</td>\n      <td>0.7502</td>\n    </tr>\n    <tr>\n      <th>3</th>\n      <td>3/10/2004</td>\n      <td>21:00:00</td>\n      <td>1376.0</td>\n      <td>948.0</td>\n      <td>1092.0</td>\n      <td>122.0</td>\n      <td>1584.0</td>\n      <td>1203.0</td>\n      <td>11.0</td>\n      <td>60.0</td>\n      <td>0.7867</td>\n    </tr>\n    <tr>\n      <th>4</th>\n      <td>3/10/2004</td>\n      <td>22:00:00</td>\n      <td>1272.0</td>\n      <td>836.0</td>\n      <td>1205.0</td>\n      <td>116.0</td>\n      <td>1490.0</td>\n      <td>1110.0</td>\n      <td>11.2</td>\n      <td>59.6</td>\n      <td>0.7888</td>\n    </tr>\n    <tr>\n      <th>...</th>\n      <td>...</td>\n      <td>...</td>\n      <td>...</td>\n      <td>...</td>\n      <td>...</td>\n      <td>...</td>\n      <td>...</td>\n      <td>...</td>\n      <td>...</td>\n      <td>...</td>\n      <td>...</td>\n    </tr>\n    <tr>\n      <th>9352</th>\n      <td>4/4/2005</td>\n      <td>10:00:00</td>\n      <td>1314.0</td>\n      <td>1101.0</td>\n      <td>539.0</td>\n      <td>190.0</td>\n      <td>1374.0</td>\n      <td>1729.0</td>\n      <td>21.9</td>\n      <td>29.3</td>\n      <td>0.7568</td>\n    </tr>\n    <tr>\n      <th>9353</th>\n      <td>4/4/2005</td>\n      <td>11:00:00</td>\n      <td>1163.0</td>\n      <td>1027.0</td>\n      <td>604.0</td>\n      <td>179.0</td>\n      <td>1264.0</td>\n      <td>1269.0</td>\n      <td>24.3</td>\n      <td>23.7</td>\n      <td>0.7119</td>\n    </tr>\n    <tr>\n      <th>9354</th>\n      <td>4/4/2005</td>\n      <td>12:00:00</td>\n      <td>1142.0</td>\n      <td>1063.0</td>\n      <td>603.0</td>\n      <td>175.0</td>\n      <td>1241.0</td>\n      <td>1092.0</td>\n      <td>26.9</td>\n      <td>18.3</td>\n      <td>0.6406</td>\n    </tr>\n    <tr>\n      <th>9355</th>\n      <td>4/4/2005</td>\n      <td>13:00:00</td>\n      <td>1003.0</td>\n      <td>961.0</td>\n      <td>702.0</td>\n      <td>156.0</td>\n      <td>1041.0</td>\n      <td>770.0</td>\n      <td>28.3</td>\n      <td>13.5</td>\n      <td>0.5139</td>\n    </tr>\n    <tr>\n      <th>9356</th>\n      <td>4/4/2005</td>\n      <td>14:00:00</td>\n      <td>1071.0</td>\n      <td>1047.0</td>\n      <td>654.0</td>\n      <td>168.0</td>\n      <td>1129.0</td>\n      <td>816.0</td>\n      <td>28.5</td>\n      <td>13.1</td>\n      <td>0.5028</td>\n    </tr>\n  </tbody>\n</table>\n<p>7393 rows × 11 columns</p>\n</div>"
     },
     "execution_count": 9,
     "metadata": {},
     "output_type": "execute_result"
    }
   ],
   "source": [
    "df_drop_complete"
   ]
  },
  {
   "cell_type": "markdown",
   "metadata": {
    "id": "v7vinFJmuQYn"
   },
   "source": [
    "### 4- Replace date feature"
   ]
  },
  {
   "cell_type": "code",
   "execution_count": 71,
   "metadata": {
    "colab": {
     "base_uri": "https://localhost:8080/",
     "height": 424
    },
    "collapsed": true,
    "id": "e1X8-GXvuQYn",
    "outputId": "0ff60fb0-beec-4d6c-e1eb-8ef30f14a2ff"
   },
   "outputs": [
    {
     "data": {
      "text/plain": "          Time  PT08.S1(CO)  PT08.S2(NMHC)  PT08.S3(NOx)  NO2(GT)  \\\n0     18:00:00       1360.0         1046.0        1056.0    113.0   \n1     19:00:00       1292.0          955.0        1174.0     92.0   \n2     20:00:00       1402.0          939.0        1140.0    114.0   \n3     21:00:00       1376.0          948.0        1092.0    122.0   \n4     22:00:00       1272.0          836.0        1205.0    116.0   \n...        ...          ...            ...           ...      ...   \n9352  10:00:00       1314.0         1101.0         539.0    190.0   \n9353  11:00:00       1163.0         1027.0         604.0    179.0   \n9354  12:00:00       1142.0         1063.0         603.0    175.0   \n9355  13:00:00       1003.0          961.0         702.0    156.0   \n9356  14:00:00       1071.0         1047.0         654.0    168.0   \n\n      PT08.S4(NO2)  PT08.S5(O3)     T    RH      AH  \n0           1692.0       1268.0  13.6  48.9  0.7578  \n1           1559.0        972.0  13.3  47.7  0.7255  \n2           1555.0       1074.0  11.9  54.0  0.7502  \n3           1584.0       1203.0  11.0  60.0  0.7867  \n4           1490.0       1110.0  11.2  59.6  0.7888  \n...            ...          ...   ...   ...     ...  \n9352        1374.0       1729.0  21.9  29.3  0.7568  \n9353        1264.0       1269.0  24.3  23.7  0.7119  \n9354        1241.0       1092.0  26.9  18.3  0.6406  \n9355        1041.0        770.0  28.3  13.5  0.5139  \n9356        1129.0        816.0  28.5  13.1  0.5028  \n\n[7531 rows x 10 columns]",
      "text/html": "<div>\n<style scoped>\n    .dataframe tbody tr th:only-of-type {\n        vertical-align: middle;\n    }\n\n    .dataframe tbody tr th {\n        vertical-align: top;\n    }\n\n    .dataframe thead th {\n        text-align: right;\n    }\n</style>\n<table border=\"1\" class=\"dataframe\">\n  <thead>\n    <tr style=\"text-align: right;\">\n      <th></th>\n      <th>Time</th>\n      <th>PT08.S1(CO)</th>\n      <th>PT08.S2(NMHC)</th>\n      <th>PT08.S3(NOx)</th>\n      <th>NO2(GT)</th>\n      <th>PT08.S4(NO2)</th>\n      <th>PT08.S5(O3)</th>\n      <th>T</th>\n      <th>RH</th>\n      <th>AH</th>\n    </tr>\n  </thead>\n  <tbody>\n    <tr>\n      <th>0</th>\n      <td>18:00:00</td>\n      <td>1360.0</td>\n      <td>1046.0</td>\n      <td>1056.0</td>\n      <td>113.0</td>\n      <td>1692.0</td>\n      <td>1268.0</td>\n      <td>13.6</td>\n      <td>48.9</td>\n      <td>0.7578</td>\n    </tr>\n    <tr>\n      <th>1</th>\n      <td>19:00:00</td>\n      <td>1292.0</td>\n      <td>955.0</td>\n      <td>1174.0</td>\n      <td>92.0</td>\n      <td>1559.0</td>\n      <td>972.0</td>\n      <td>13.3</td>\n      <td>47.7</td>\n      <td>0.7255</td>\n    </tr>\n    <tr>\n      <th>2</th>\n      <td>20:00:00</td>\n      <td>1402.0</td>\n      <td>939.0</td>\n      <td>1140.0</td>\n      <td>114.0</td>\n      <td>1555.0</td>\n      <td>1074.0</td>\n      <td>11.9</td>\n      <td>54.0</td>\n      <td>0.7502</td>\n    </tr>\n    <tr>\n      <th>3</th>\n      <td>21:00:00</td>\n      <td>1376.0</td>\n      <td>948.0</td>\n      <td>1092.0</td>\n      <td>122.0</td>\n      <td>1584.0</td>\n      <td>1203.0</td>\n      <td>11.0</td>\n      <td>60.0</td>\n      <td>0.7867</td>\n    </tr>\n    <tr>\n      <th>4</th>\n      <td>22:00:00</td>\n      <td>1272.0</td>\n      <td>836.0</td>\n      <td>1205.0</td>\n      <td>116.0</td>\n      <td>1490.0</td>\n      <td>1110.0</td>\n      <td>11.2</td>\n      <td>59.6</td>\n      <td>0.7888</td>\n    </tr>\n    <tr>\n      <th>...</th>\n      <td>...</td>\n      <td>...</td>\n      <td>...</td>\n      <td>...</td>\n      <td>...</td>\n      <td>...</td>\n      <td>...</td>\n      <td>...</td>\n      <td>...</td>\n      <td>...</td>\n    </tr>\n    <tr>\n      <th>9352</th>\n      <td>10:00:00</td>\n      <td>1314.0</td>\n      <td>1101.0</td>\n      <td>539.0</td>\n      <td>190.0</td>\n      <td>1374.0</td>\n      <td>1729.0</td>\n      <td>21.9</td>\n      <td>29.3</td>\n      <td>0.7568</td>\n    </tr>\n    <tr>\n      <th>9353</th>\n      <td>11:00:00</td>\n      <td>1163.0</td>\n      <td>1027.0</td>\n      <td>604.0</td>\n      <td>179.0</td>\n      <td>1264.0</td>\n      <td>1269.0</td>\n      <td>24.3</td>\n      <td>23.7</td>\n      <td>0.7119</td>\n    </tr>\n    <tr>\n      <th>9354</th>\n      <td>12:00:00</td>\n      <td>1142.0</td>\n      <td>1063.0</td>\n      <td>603.0</td>\n      <td>175.0</td>\n      <td>1241.0</td>\n      <td>1092.0</td>\n      <td>26.9</td>\n      <td>18.3</td>\n      <td>0.6406</td>\n    </tr>\n    <tr>\n      <th>9355</th>\n      <td>13:00:00</td>\n      <td>1003.0</td>\n      <td>961.0</td>\n      <td>702.0</td>\n      <td>156.0</td>\n      <td>1041.0</td>\n      <td>770.0</td>\n      <td>28.3</td>\n      <td>13.5</td>\n      <td>0.5139</td>\n    </tr>\n    <tr>\n      <th>9356</th>\n      <td>14:00:00</td>\n      <td>1071.0</td>\n      <td>1047.0</td>\n      <td>654.0</td>\n      <td>168.0</td>\n      <td>1129.0</td>\n      <td>816.0</td>\n      <td>28.5</td>\n      <td>13.1</td>\n      <td>0.5028</td>\n    </tr>\n  </tbody>\n</table>\n<p>7531 rows × 10 columns</p>\n</div>"
     },
     "execution_count": 71,
     "metadata": {},
     "output_type": "execute_result"
    }
   ],
   "source": [
    "days=[]\n",
    "months=[]\n",
    "years=[]\n",
    "dates=df_drop_complete['Date']\n",
    "for d in dates:\n",
    "  date=d.split('/')\n",
    "  days.append(date[0])\n",
    "  months.append(date[1])\n",
    "  years.append(date[2])\n",
    "df_cleaned=df_drop_complete.drop(axis=1,columns='Date')\n",
    "df_cleaned"
   ]
  },
  {
   "cell_type": "code",
   "execution_count": 72,
   "metadata": {
    "id": "ADvLxU1qufto"
   },
   "outputs": [],
   "source": [
    "df_cleaned.insert(0,'Day',days)\n",
    "df_cleaned.insert(1,'Month',months)\n",
    "df_cleaned.insert(2,'Year',years)"
   ]
  },
  {
   "cell_type": "code",
   "execution_count": 73,
   "metadata": {
    "colab": {
     "base_uri": "https://localhost:8080/",
     "height": 424
    },
    "id": "QaeC7l_U5L88",
    "outputId": "77fdcf7c-a0ca-43c7-f002-0b16b420772c"
   },
   "outputs": [
    {
     "data": {
      "text/plain": "     Day Month  Year      Time  PT08.S1(CO)  PT08.S2(NMHC)  PT08.S3(NOx)  \\\n0      3    10  2004  18:00:00       1360.0         1046.0        1056.0   \n1      3    10  2004  19:00:00       1292.0          955.0        1174.0   \n2      3    10  2004  20:00:00       1402.0          939.0        1140.0   \n3      3    10  2004  21:00:00       1376.0          948.0        1092.0   \n4      3    10  2004  22:00:00       1272.0          836.0        1205.0   \n...   ..   ...   ...       ...          ...            ...           ...   \n9352   4     4  2005  10:00:00       1314.0         1101.0         539.0   \n9353   4     4  2005  11:00:00       1163.0         1027.0         604.0   \n9354   4     4  2005  12:00:00       1142.0         1063.0         603.0   \n9355   4     4  2005  13:00:00       1003.0          961.0         702.0   \n9356   4     4  2005  14:00:00       1071.0         1047.0         654.0   \n\n      NO2(GT)  PT08.S4(NO2)  PT08.S5(O3)     T    RH      AH  \n0       113.0        1692.0       1268.0  13.6  48.9  0.7578  \n1        92.0        1559.0        972.0  13.3  47.7  0.7255  \n2       114.0        1555.0       1074.0  11.9  54.0  0.7502  \n3       122.0        1584.0       1203.0  11.0  60.0  0.7867  \n4       116.0        1490.0       1110.0  11.2  59.6  0.7888  \n...       ...           ...          ...   ...   ...     ...  \n9352    190.0        1374.0       1729.0  21.9  29.3  0.7568  \n9353    179.0        1264.0       1269.0  24.3  23.7  0.7119  \n9354    175.0        1241.0       1092.0  26.9  18.3  0.6406  \n9355    156.0        1041.0        770.0  28.3  13.5  0.5139  \n9356    168.0        1129.0        816.0  28.5  13.1  0.5028  \n\n[7531 rows x 13 columns]",
      "text/html": "<div>\n<style scoped>\n    .dataframe tbody tr th:only-of-type {\n        vertical-align: middle;\n    }\n\n    .dataframe tbody tr th {\n        vertical-align: top;\n    }\n\n    .dataframe thead th {\n        text-align: right;\n    }\n</style>\n<table border=\"1\" class=\"dataframe\">\n  <thead>\n    <tr style=\"text-align: right;\">\n      <th></th>\n      <th>Day</th>\n      <th>Month</th>\n      <th>Year</th>\n      <th>Time</th>\n      <th>PT08.S1(CO)</th>\n      <th>PT08.S2(NMHC)</th>\n      <th>PT08.S3(NOx)</th>\n      <th>NO2(GT)</th>\n      <th>PT08.S4(NO2)</th>\n      <th>PT08.S5(O3)</th>\n      <th>T</th>\n      <th>RH</th>\n      <th>AH</th>\n    </tr>\n  </thead>\n  <tbody>\n    <tr>\n      <th>0</th>\n      <td>3</td>\n      <td>10</td>\n      <td>2004</td>\n      <td>18:00:00</td>\n      <td>1360.0</td>\n      <td>1046.0</td>\n      <td>1056.0</td>\n      <td>113.0</td>\n      <td>1692.0</td>\n      <td>1268.0</td>\n      <td>13.6</td>\n      <td>48.9</td>\n      <td>0.7578</td>\n    </tr>\n    <tr>\n      <th>1</th>\n      <td>3</td>\n      <td>10</td>\n      <td>2004</td>\n      <td>19:00:00</td>\n      <td>1292.0</td>\n      <td>955.0</td>\n      <td>1174.0</td>\n      <td>92.0</td>\n      <td>1559.0</td>\n      <td>972.0</td>\n      <td>13.3</td>\n      <td>47.7</td>\n      <td>0.7255</td>\n    </tr>\n    <tr>\n      <th>2</th>\n      <td>3</td>\n      <td>10</td>\n      <td>2004</td>\n      <td>20:00:00</td>\n      <td>1402.0</td>\n      <td>939.0</td>\n      <td>1140.0</td>\n      <td>114.0</td>\n      <td>1555.0</td>\n      <td>1074.0</td>\n      <td>11.9</td>\n      <td>54.0</td>\n      <td>0.7502</td>\n    </tr>\n    <tr>\n      <th>3</th>\n      <td>3</td>\n      <td>10</td>\n      <td>2004</td>\n      <td>21:00:00</td>\n      <td>1376.0</td>\n      <td>948.0</td>\n      <td>1092.0</td>\n      <td>122.0</td>\n      <td>1584.0</td>\n      <td>1203.0</td>\n      <td>11.0</td>\n      <td>60.0</td>\n      <td>0.7867</td>\n    </tr>\n    <tr>\n      <th>4</th>\n      <td>3</td>\n      <td>10</td>\n      <td>2004</td>\n      <td>22:00:00</td>\n      <td>1272.0</td>\n      <td>836.0</td>\n      <td>1205.0</td>\n      <td>116.0</td>\n      <td>1490.0</td>\n      <td>1110.0</td>\n      <td>11.2</td>\n      <td>59.6</td>\n      <td>0.7888</td>\n    </tr>\n    <tr>\n      <th>...</th>\n      <td>...</td>\n      <td>...</td>\n      <td>...</td>\n      <td>...</td>\n      <td>...</td>\n      <td>...</td>\n      <td>...</td>\n      <td>...</td>\n      <td>...</td>\n      <td>...</td>\n      <td>...</td>\n      <td>...</td>\n      <td>...</td>\n    </tr>\n    <tr>\n      <th>9352</th>\n      <td>4</td>\n      <td>4</td>\n      <td>2005</td>\n      <td>10:00:00</td>\n      <td>1314.0</td>\n      <td>1101.0</td>\n      <td>539.0</td>\n      <td>190.0</td>\n      <td>1374.0</td>\n      <td>1729.0</td>\n      <td>21.9</td>\n      <td>29.3</td>\n      <td>0.7568</td>\n    </tr>\n    <tr>\n      <th>9353</th>\n      <td>4</td>\n      <td>4</td>\n      <td>2005</td>\n      <td>11:00:00</td>\n      <td>1163.0</td>\n      <td>1027.0</td>\n      <td>604.0</td>\n      <td>179.0</td>\n      <td>1264.0</td>\n      <td>1269.0</td>\n      <td>24.3</td>\n      <td>23.7</td>\n      <td>0.7119</td>\n    </tr>\n    <tr>\n      <th>9354</th>\n      <td>4</td>\n      <td>4</td>\n      <td>2005</td>\n      <td>12:00:00</td>\n      <td>1142.0</td>\n      <td>1063.0</td>\n      <td>603.0</td>\n      <td>175.0</td>\n      <td>1241.0</td>\n      <td>1092.0</td>\n      <td>26.9</td>\n      <td>18.3</td>\n      <td>0.6406</td>\n    </tr>\n    <tr>\n      <th>9355</th>\n      <td>4</td>\n      <td>4</td>\n      <td>2005</td>\n      <td>13:00:00</td>\n      <td>1003.0</td>\n      <td>961.0</td>\n      <td>702.0</td>\n      <td>156.0</td>\n      <td>1041.0</td>\n      <td>770.0</td>\n      <td>28.3</td>\n      <td>13.5</td>\n      <td>0.5139</td>\n    </tr>\n    <tr>\n      <th>9356</th>\n      <td>4</td>\n      <td>4</td>\n      <td>2005</td>\n      <td>14:00:00</td>\n      <td>1071.0</td>\n      <td>1047.0</td>\n      <td>654.0</td>\n      <td>168.0</td>\n      <td>1129.0</td>\n      <td>816.0</td>\n      <td>28.5</td>\n      <td>13.1</td>\n      <td>0.5028</td>\n    </tr>\n  </tbody>\n</table>\n<p>7531 rows × 13 columns</p>\n</div>"
     },
     "execution_count": 73,
     "metadata": {},
     "output_type": "execute_result"
    }
   ],
   "source": [
    "df_cleaned"
   ]
  },
  {
   "cell_type": "markdown",
   "metadata": {
    "id": "zHvSGF9fuQYo"
   },
   "source": [
    "### 5- Replace time feature"
   ]
  },
  {
   "cell_type": "code",
   "execution_count": 74,
   "metadata": {
    "colab": {
     "base_uri": "https://localhost:8080/",
     "height": 424
    },
    "collapsed": true,
    "id": "vWqvEVdsuQYo",
    "outputId": "76de17b5-66e8-4867-b438-c87a02073b11"
   },
   "outputs": [
    {
     "data": {
      "text/plain": "     Day Month  Year  PT08.S1(CO)  PT08.S2(NMHC)  PT08.S3(NOx)  NO2(GT)  \\\n0      3    10  2004       1360.0         1046.0        1056.0    113.0   \n1      3    10  2004       1292.0          955.0        1174.0     92.0   \n2      3    10  2004       1402.0          939.0        1140.0    114.0   \n3      3    10  2004       1376.0          948.0        1092.0    122.0   \n4      3    10  2004       1272.0          836.0        1205.0    116.0   \n...   ..   ...   ...          ...            ...           ...      ...   \n9352   4     4  2005       1314.0         1101.0         539.0    190.0   \n9353   4     4  2005       1163.0         1027.0         604.0    179.0   \n9354   4     4  2005       1142.0         1063.0         603.0    175.0   \n9355   4     4  2005       1003.0          961.0         702.0    156.0   \n9356   4     4  2005       1071.0         1047.0         654.0    168.0   \n\n      PT08.S4(NO2)  PT08.S5(O3)     T    RH      AH  \n0           1692.0       1268.0  13.6  48.9  0.7578  \n1           1559.0        972.0  13.3  47.7  0.7255  \n2           1555.0       1074.0  11.9  54.0  0.7502  \n3           1584.0       1203.0  11.0  60.0  0.7867  \n4           1490.0       1110.0  11.2  59.6  0.7888  \n...            ...          ...   ...   ...     ...  \n9352        1374.0       1729.0  21.9  29.3  0.7568  \n9353        1264.0       1269.0  24.3  23.7  0.7119  \n9354        1241.0       1092.0  26.9  18.3  0.6406  \n9355        1041.0        770.0  28.3  13.5  0.5139  \n9356        1129.0        816.0  28.5  13.1  0.5028  \n\n[7531 rows x 12 columns]",
      "text/html": "<div>\n<style scoped>\n    .dataframe tbody tr th:only-of-type {\n        vertical-align: middle;\n    }\n\n    .dataframe tbody tr th {\n        vertical-align: top;\n    }\n\n    .dataframe thead th {\n        text-align: right;\n    }\n</style>\n<table border=\"1\" class=\"dataframe\">\n  <thead>\n    <tr style=\"text-align: right;\">\n      <th></th>\n      <th>Day</th>\n      <th>Month</th>\n      <th>Year</th>\n      <th>PT08.S1(CO)</th>\n      <th>PT08.S2(NMHC)</th>\n      <th>PT08.S3(NOx)</th>\n      <th>NO2(GT)</th>\n      <th>PT08.S4(NO2)</th>\n      <th>PT08.S5(O3)</th>\n      <th>T</th>\n      <th>RH</th>\n      <th>AH</th>\n    </tr>\n  </thead>\n  <tbody>\n    <tr>\n      <th>0</th>\n      <td>3</td>\n      <td>10</td>\n      <td>2004</td>\n      <td>1360.0</td>\n      <td>1046.0</td>\n      <td>1056.0</td>\n      <td>113.0</td>\n      <td>1692.0</td>\n      <td>1268.0</td>\n      <td>13.6</td>\n      <td>48.9</td>\n      <td>0.7578</td>\n    </tr>\n    <tr>\n      <th>1</th>\n      <td>3</td>\n      <td>10</td>\n      <td>2004</td>\n      <td>1292.0</td>\n      <td>955.0</td>\n      <td>1174.0</td>\n      <td>92.0</td>\n      <td>1559.0</td>\n      <td>972.0</td>\n      <td>13.3</td>\n      <td>47.7</td>\n      <td>0.7255</td>\n    </tr>\n    <tr>\n      <th>2</th>\n      <td>3</td>\n      <td>10</td>\n      <td>2004</td>\n      <td>1402.0</td>\n      <td>939.0</td>\n      <td>1140.0</td>\n      <td>114.0</td>\n      <td>1555.0</td>\n      <td>1074.0</td>\n      <td>11.9</td>\n      <td>54.0</td>\n      <td>0.7502</td>\n    </tr>\n    <tr>\n      <th>3</th>\n      <td>3</td>\n      <td>10</td>\n      <td>2004</td>\n      <td>1376.0</td>\n      <td>948.0</td>\n      <td>1092.0</td>\n      <td>122.0</td>\n      <td>1584.0</td>\n      <td>1203.0</td>\n      <td>11.0</td>\n      <td>60.0</td>\n      <td>0.7867</td>\n    </tr>\n    <tr>\n      <th>4</th>\n      <td>3</td>\n      <td>10</td>\n      <td>2004</td>\n      <td>1272.0</td>\n      <td>836.0</td>\n      <td>1205.0</td>\n      <td>116.0</td>\n      <td>1490.0</td>\n      <td>1110.0</td>\n      <td>11.2</td>\n      <td>59.6</td>\n      <td>0.7888</td>\n    </tr>\n    <tr>\n      <th>...</th>\n      <td>...</td>\n      <td>...</td>\n      <td>...</td>\n      <td>...</td>\n      <td>...</td>\n      <td>...</td>\n      <td>...</td>\n      <td>...</td>\n      <td>...</td>\n      <td>...</td>\n      <td>...</td>\n      <td>...</td>\n    </tr>\n    <tr>\n      <th>9352</th>\n      <td>4</td>\n      <td>4</td>\n      <td>2005</td>\n      <td>1314.0</td>\n      <td>1101.0</td>\n      <td>539.0</td>\n      <td>190.0</td>\n      <td>1374.0</td>\n      <td>1729.0</td>\n      <td>21.9</td>\n      <td>29.3</td>\n      <td>0.7568</td>\n    </tr>\n    <tr>\n      <th>9353</th>\n      <td>4</td>\n      <td>4</td>\n      <td>2005</td>\n      <td>1163.0</td>\n      <td>1027.0</td>\n      <td>604.0</td>\n      <td>179.0</td>\n      <td>1264.0</td>\n      <td>1269.0</td>\n      <td>24.3</td>\n      <td>23.7</td>\n      <td>0.7119</td>\n    </tr>\n    <tr>\n      <th>9354</th>\n      <td>4</td>\n      <td>4</td>\n      <td>2005</td>\n      <td>1142.0</td>\n      <td>1063.0</td>\n      <td>603.0</td>\n      <td>175.0</td>\n      <td>1241.0</td>\n      <td>1092.0</td>\n      <td>26.9</td>\n      <td>18.3</td>\n      <td>0.6406</td>\n    </tr>\n    <tr>\n      <th>9355</th>\n      <td>4</td>\n      <td>4</td>\n      <td>2005</td>\n      <td>1003.0</td>\n      <td>961.0</td>\n      <td>702.0</td>\n      <td>156.0</td>\n      <td>1041.0</td>\n      <td>770.0</td>\n      <td>28.3</td>\n      <td>13.5</td>\n      <td>0.5139</td>\n    </tr>\n    <tr>\n      <th>9356</th>\n      <td>4</td>\n      <td>4</td>\n      <td>2005</td>\n      <td>1071.0</td>\n      <td>1047.0</td>\n      <td>654.0</td>\n      <td>168.0</td>\n      <td>1129.0</td>\n      <td>816.0</td>\n      <td>28.5</td>\n      <td>13.1</td>\n      <td>0.5028</td>\n    </tr>\n  </tbody>\n</table>\n<p>7531 rows × 12 columns</p>\n</div>"
     },
     "execution_count": 74,
     "metadata": {},
     "output_type": "execute_result"
    }
   ],
   "source": [
    "times=df_cleaned['Time']\n",
    "hours=[]\n",
    "minutes=[]\n",
    "seconds=[]\n",
    "for t in times:\n",
    "  time=t.split(':')\n",
    "  hours.append(time[0])\n",
    "  minutes.append(time[1])\n",
    "  seconds.append(time[2])\n",
    "df_cleaned.drop(axis=1,columns='Time',inplace=True)\n",
    "df_cleaned"
   ]
  },
  {
   "cell_type": "code",
   "execution_count": 75,
   "metadata": {
    "id": "Rc9_Uqm56WJo"
   },
   "outputs": [],
   "source": [
    "df_cleaned.insert(3,'Hour',hours)\n",
    "df_cleaned.insert(4,'Minute',minutes)\n",
    "df_cleaned.insert(5,'Seconds',seconds)\n",
    "\n"
   ]
  },
  {
   "cell_type": "code",
   "execution_count": 76,
   "metadata": {
    "colab": {
     "base_uri": "https://localhost:8080/",
     "height": 424
    },
    "id": "zw6kl_Xv6qsq",
    "outputId": "39252eb4-f81b-481b-83df-2aea8e04dc44"
   },
   "outputs": [
    {
     "data": {
      "text/plain": "     Day Month  Year Hour Minute Seconds  PT08.S1(CO)  PT08.S2(NMHC)  \\\n0      3    10  2004   18     00      00       1360.0         1046.0   \n1      3    10  2004   19     00      00       1292.0          955.0   \n2      3    10  2004   20     00      00       1402.0          939.0   \n3      3    10  2004   21     00      00       1376.0          948.0   \n4      3    10  2004   22     00      00       1272.0          836.0   \n...   ..   ...   ...  ...    ...     ...          ...            ...   \n9352   4     4  2005   10     00      00       1314.0         1101.0   \n9353   4     4  2005   11     00      00       1163.0         1027.0   \n9354   4     4  2005   12     00      00       1142.0         1063.0   \n9355   4     4  2005   13     00      00       1003.0          961.0   \n9356   4     4  2005   14     00      00       1071.0         1047.0   \n\n      PT08.S3(NOx)  NO2(GT)  PT08.S4(NO2)  PT08.S5(O3)     T    RH      AH  \n0           1056.0    113.0        1692.0       1268.0  13.6  48.9  0.7578  \n1           1174.0     92.0        1559.0        972.0  13.3  47.7  0.7255  \n2           1140.0    114.0        1555.0       1074.0  11.9  54.0  0.7502  \n3           1092.0    122.0        1584.0       1203.0  11.0  60.0  0.7867  \n4           1205.0    116.0        1490.0       1110.0  11.2  59.6  0.7888  \n...            ...      ...           ...          ...   ...   ...     ...  \n9352         539.0    190.0        1374.0       1729.0  21.9  29.3  0.7568  \n9353         604.0    179.0        1264.0       1269.0  24.3  23.7  0.7119  \n9354         603.0    175.0        1241.0       1092.0  26.9  18.3  0.6406  \n9355         702.0    156.0        1041.0        770.0  28.3  13.5  0.5139  \n9356         654.0    168.0        1129.0        816.0  28.5  13.1  0.5028  \n\n[7531 rows x 15 columns]",
      "text/html": "<div>\n<style scoped>\n    .dataframe tbody tr th:only-of-type {\n        vertical-align: middle;\n    }\n\n    .dataframe tbody tr th {\n        vertical-align: top;\n    }\n\n    .dataframe thead th {\n        text-align: right;\n    }\n</style>\n<table border=\"1\" class=\"dataframe\">\n  <thead>\n    <tr style=\"text-align: right;\">\n      <th></th>\n      <th>Day</th>\n      <th>Month</th>\n      <th>Year</th>\n      <th>Hour</th>\n      <th>Minute</th>\n      <th>Seconds</th>\n      <th>PT08.S1(CO)</th>\n      <th>PT08.S2(NMHC)</th>\n      <th>PT08.S3(NOx)</th>\n      <th>NO2(GT)</th>\n      <th>PT08.S4(NO2)</th>\n      <th>PT08.S5(O3)</th>\n      <th>T</th>\n      <th>RH</th>\n      <th>AH</th>\n    </tr>\n  </thead>\n  <tbody>\n    <tr>\n      <th>0</th>\n      <td>3</td>\n      <td>10</td>\n      <td>2004</td>\n      <td>18</td>\n      <td>00</td>\n      <td>00</td>\n      <td>1360.0</td>\n      <td>1046.0</td>\n      <td>1056.0</td>\n      <td>113.0</td>\n      <td>1692.0</td>\n      <td>1268.0</td>\n      <td>13.6</td>\n      <td>48.9</td>\n      <td>0.7578</td>\n    </tr>\n    <tr>\n      <th>1</th>\n      <td>3</td>\n      <td>10</td>\n      <td>2004</td>\n      <td>19</td>\n      <td>00</td>\n      <td>00</td>\n      <td>1292.0</td>\n      <td>955.0</td>\n      <td>1174.0</td>\n      <td>92.0</td>\n      <td>1559.0</td>\n      <td>972.0</td>\n      <td>13.3</td>\n      <td>47.7</td>\n      <td>0.7255</td>\n    </tr>\n    <tr>\n      <th>2</th>\n      <td>3</td>\n      <td>10</td>\n      <td>2004</td>\n      <td>20</td>\n      <td>00</td>\n      <td>00</td>\n      <td>1402.0</td>\n      <td>939.0</td>\n      <td>1140.0</td>\n      <td>114.0</td>\n      <td>1555.0</td>\n      <td>1074.0</td>\n      <td>11.9</td>\n      <td>54.0</td>\n      <td>0.7502</td>\n    </tr>\n    <tr>\n      <th>3</th>\n      <td>3</td>\n      <td>10</td>\n      <td>2004</td>\n      <td>21</td>\n      <td>00</td>\n      <td>00</td>\n      <td>1376.0</td>\n      <td>948.0</td>\n      <td>1092.0</td>\n      <td>122.0</td>\n      <td>1584.0</td>\n      <td>1203.0</td>\n      <td>11.0</td>\n      <td>60.0</td>\n      <td>0.7867</td>\n    </tr>\n    <tr>\n      <th>4</th>\n      <td>3</td>\n      <td>10</td>\n      <td>2004</td>\n      <td>22</td>\n      <td>00</td>\n      <td>00</td>\n      <td>1272.0</td>\n      <td>836.0</td>\n      <td>1205.0</td>\n      <td>116.0</td>\n      <td>1490.0</td>\n      <td>1110.0</td>\n      <td>11.2</td>\n      <td>59.6</td>\n      <td>0.7888</td>\n    </tr>\n    <tr>\n      <th>...</th>\n      <td>...</td>\n      <td>...</td>\n      <td>...</td>\n      <td>...</td>\n      <td>...</td>\n      <td>...</td>\n      <td>...</td>\n      <td>...</td>\n      <td>...</td>\n      <td>...</td>\n      <td>...</td>\n      <td>...</td>\n      <td>...</td>\n      <td>...</td>\n      <td>...</td>\n    </tr>\n    <tr>\n      <th>9352</th>\n      <td>4</td>\n      <td>4</td>\n      <td>2005</td>\n      <td>10</td>\n      <td>00</td>\n      <td>00</td>\n      <td>1314.0</td>\n      <td>1101.0</td>\n      <td>539.0</td>\n      <td>190.0</td>\n      <td>1374.0</td>\n      <td>1729.0</td>\n      <td>21.9</td>\n      <td>29.3</td>\n      <td>0.7568</td>\n    </tr>\n    <tr>\n      <th>9353</th>\n      <td>4</td>\n      <td>4</td>\n      <td>2005</td>\n      <td>11</td>\n      <td>00</td>\n      <td>00</td>\n      <td>1163.0</td>\n      <td>1027.0</td>\n      <td>604.0</td>\n      <td>179.0</td>\n      <td>1264.0</td>\n      <td>1269.0</td>\n      <td>24.3</td>\n      <td>23.7</td>\n      <td>0.7119</td>\n    </tr>\n    <tr>\n      <th>9354</th>\n      <td>4</td>\n      <td>4</td>\n      <td>2005</td>\n      <td>12</td>\n      <td>00</td>\n      <td>00</td>\n      <td>1142.0</td>\n      <td>1063.0</td>\n      <td>603.0</td>\n      <td>175.0</td>\n      <td>1241.0</td>\n      <td>1092.0</td>\n      <td>26.9</td>\n      <td>18.3</td>\n      <td>0.6406</td>\n    </tr>\n    <tr>\n      <th>9355</th>\n      <td>4</td>\n      <td>4</td>\n      <td>2005</td>\n      <td>13</td>\n      <td>00</td>\n      <td>00</td>\n      <td>1003.0</td>\n      <td>961.0</td>\n      <td>702.0</td>\n      <td>156.0</td>\n      <td>1041.0</td>\n      <td>770.0</td>\n      <td>28.3</td>\n      <td>13.5</td>\n      <td>0.5139</td>\n    </tr>\n    <tr>\n      <th>9356</th>\n      <td>4</td>\n      <td>4</td>\n      <td>2005</td>\n      <td>14</td>\n      <td>00</td>\n      <td>00</td>\n      <td>1071.0</td>\n      <td>1047.0</td>\n      <td>654.0</td>\n      <td>168.0</td>\n      <td>1129.0</td>\n      <td>816.0</td>\n      <td>28.5</td>\n      <td>13.1</td>\n      <td>0.5028</td>\n    </tr>\n  </tbody>\n</table>\n<p>7531 rows × 15 columns</p>\n</div>"
     },
     "execution_count": 76,
     "metadata": {},
     "output_type": "execute_result"
    }
   ],
   "source": [
    "df_cleaned"
   ]
  },
  {
   "cell_type": "markdown",
   "metadata": {
    "id": "rV0bYDXzuQYo"
   },
   "source": [
    "### 6- Apply feature scaling"
   ]
  },
  {
   "cell_type": "code",
   "execution_count": 77,
   "metadata": {
    "collapsed": true,
    "id": "qIgBH_d2uQYo"
   },
   "outputs": [],
   "source": [
    "from sklearn.preprocessing import PolynomialFeatures\n",
    "from sklearn.preprocessing import StandardScaler\n",
    "from sklearn.model_selection import train_test_split\n",
    "from sklearn.linear_model import LassoCV\n",
    "from sklearn.linear_model import RidgeCV\n",
    "from sklearn.metrics import mean_absolute_error,mean_squared_error"
   ]
  },
  {
   "cell_type": "code",
   "execution_count": 78,
   "outputs": [
    {
     "data": {
      "text/plain": "PT08.S3(NOx)    -0.648879\nAH              -0.340000\nT               -0.197428\nRH              -0.082745\nPT08.S4(NO2)     0.146926\nPT08.S2(NMHC)    0.638464\nPT08.S1(CO)      0.639845\nPT08.S5(O3)      0.706745\nNO2(GT)          1.000000\nName: NO2(GT), dtype: float64"
     },
     "execution_count": 78,
     "metadata": {},
     "output_type": "execute_result"
    }
   ],
   "source": [
    "df_cleaned.corr()['NO2(GT)'].sort_values()"
   ],
   "metadata": {
    "collapsed": false,
    "pycharm": {
     "name": "#%%\n"
    }
   }
  },
  {
   "cell_type": "code",
   "execution_count": 124,
   "metadata": {
    "id": "oQGT2x9Uay2Z"
   },
   "outputs": [],
   "source": [
    "RMSE=[]\n",
    "Alphas=[]\n",
    "coef=[]\n",
    "X=df_cleaned.drop(columns=['NO2(GT)','Minute','Seconds'],axis=1)\n",
    "y=df_cleaned['NO2(GT)']\n",
    "X_train, X_test, y_train, y_test = train_test_split(X, y, test_size=0.3, random_state=101)\n",
    "\n",
    "scaler = StandardScaler()\n",
    "scaler.fit(X_train)\n",
    "X_train = scaler.transform(X_train)\n",
    "X_test = scaler.transform(X_test)\n",
    "\n",
    "\n",
    "\n"
   ]
  },
  {
   "cell_type": "markdown",
   "metadata": {
    "id": "-Bh7ou_4uQYp"
   },
   "source": [
    "### 7- Evaluate different degrees of lasso CV polynomial regression"
   ]
  },
  {
   "cell_type": "code",
   "execution_count": 80,
   "metadata": {
    "id": "QUj1OrJbehE6"
   },
   "outputs": [],
   "source": [
    "for i in range(1,5):\n",
    "  polynomial_converter = PolynomialFeatures(degree=i,include_bias=False)\n",
    "  poly_features = polynomial_converter.fit_transform(X_train)\n",
    "  lasso_cv_model = LassoCV(eps=0.05,n_alphas=100,cv=5)\n",
    "  lasso_cv_model.fit(poly_features,y_train)\n",
    "  poly_test = polynomial_converter.fit_transform(X_test)\n",
    "  test_pred = lasso_cv_model.predict(poly_test)\n",
    "  Alphas.append(lasso_cv_model.alpha_)\n",
    "  coef.append(lasso_cv_model.coef_)\n",
    "  mse= mean_squared_error(y_test,test_pred)\n",
    "  rmse=np.sqrt(mse)\n",
    "  RMSE.append(rmse)"
   ]
  },
  {
   "cell_type": "markdown",
   "metadata": {
    "id": "pDn9gby-uQYp"
   },
   "source": [
    "### 8- Choose the best degree and print the errors, model coefficients and the lasso parameters."
   ]
  },
  {
   "cell_type": "code",
   "execution_count": 81,
   "outputs": [
    {
     "name": "stdout",
     "output_type": "stream",
     "text": [
      "RMSE: [23.521912004196395, 21.794283814697213, 24.617114867683032, 31.615361513037147]\n",
      "Lambdas: [1.7122121094265759, 1.7122121094265754, 5.904663373102993, 14.93763550868471]\n",
      "Coefficients: [array([  0.        ,   0.        ,   8.26250119,   5.41432309,\n",
      "         0.        ,   9.00583464, -10.55435738,  -0.        ,\n",
      "        16.10726958,   0.        ,  -2.06569956, -15.29560696]), array([ 0.00000000e+00,  0.00000000e+00,  6.65011752e+00,  4.92307212e+00,\n",
      "        0.00000000e+00,  1.48533725e+01, -7.56156285e+00, -0.00000000e+00,\n",
      "        1.39308864e+01, -0.00000000e+00, -0.00000000e+00, -1.54996786e+01,\n",
      "        0.00000000e+00,  0.00000000e+00, -1.58651004e+00, -0.00000000e+00,\n",
      "        0.00000000e+00,  0.00000000e+00,  0.00000000e+00,  0.00000000e+00,\n",
      "        0.00000000e+00, -0.00000000e+00,  0.00000000e+00, -0.00000000e+00,\n",
      "       -0.00000000e+00,  0.00000000e+00, -0.00000000e+00,  0.00000000e+00,\n",
      "        0.00000000e+00, -8.98591957e-03,  0.00000000e+00,  0.00000000e+00,\n",
      "       -0.00000000e+00,  1.52907039e-01,  0.00000000e+00,  0.00000000e+00,\n",
      "        0.00000000e+00,  0.00000000e+00,  0.00000000e+00, -2.59170269e+00,\n",
      "       -0.00000000e+00,  0.00000000e+00, -0.00000000e+00, -0.00000000e+00,\n",
      "       -0.00000000e+00, -0.00000000e+00,  0.00000000e+00,  0.00000000e+00,\n",
      "       -0.00000000e+00, -0.00000000e+00,  0.00000000e+00, -0.00000000e+00,\n",
      "        0.00000000e+00, -0.00000000e+00, -0.00000000e+00, -0.00000000e+00,\n",
      "        0.00000000e+00, -6.15709099e-01, -0.00000000e+00,  0.00000000e+00,\n",
      "       -0.00000000e+00, -0.00000000e+00, -0.00000000e+00,  0.00000000e+00,\n",
      "       -1.27223720e+00, -0.00000000e+00,  0.00000000e+00, -0.00000000e+00,\n",
      "       -0.00000000e+00,  0.00000000e+00,  6.08006389e-01,  0.00000000e+00,\n",
      "        0.00000000e+00,  0.00000000e+00,  1.95094849e+00, -0.00000000e+00,\n",
      "       -0.00000000e+00,  3.60230312e+00, -0.00000000e+00,  0.00000000e+00,\n",
      "        0.00000000e+00,  0.00000000e+00, -0.00000000e+00, -0.00000000e+00,\n",
      "        2.43689872e+00, -0.00000000e+00,  5.46550486e-01,  0.00000000e+00,\n",
      "       -0.00000000e+00,  0.00000000e+00]), array([ 0.        ,  0.        ,  0.        ,  0.        ,  0.        ,\n",
      "        8.46129708, -0.32949998, -0.        ,  6.47936374, -0.        ,\n",
      "       -0.        , -0.        ,  0.        ,  0.        , -0.        ,\n",
      "        0.        ,  0.        ,  0.        ,  0.        ,  0.        ,\n",
      "        0.        ,  0.        , -0.        , -0.        , -0.        ,\n",
      "       -0.        , -0.        ,  0.        ,  0.        , -0.        ,\n",
      "        0.        ,  0.        , -0.        ,  0.        ,  0.        ,\n",
      "        0.        , -0.        , -0.        , -0.        ,  0.        ,\n",
      "       -0.        , -0.        , -0.        ,  0.        , -0.        ,\n",
      "       -0.        , -0.        , -0.        ,  0.        , -0.        ,\n",
      "       -0.        , -0.        ,  0.        ,  0.        , -0.        ,\n",
      "       -0.        ,  0.        , -0.        , -0.        ,  0.        ,\n",
      "        0.        ,  0.        , -0.        ,  0.        , -0.        ,\n",
      "       -0.        ,  0.        , -0.        , -0.        , -0.        ,\n",
      "        0.        ,  0.        ,  0.        ,  0.        ,  0.        ,\n",
      "       -0.        , -0.        ,  0.        , -0.        ,  0.        ,\n",
      "       -0.        , -0.        , -0.        , -0.        ,  0.05046492,\n",
      "       -0.        ,  0.        ,  0.        , -0.        ,  0.        ,\n",
      "        0.        ,  0.        ,  0.        ,  0.        ,  0.        ,\n",
      "        0.        , -0.        , -0.        ,  0.13138933, -0.        ,\n",
      "       -0.        , -2.69665479, -0.        , -0.        , -0.        ,\n",
      "        0.        ,  0.        , -0.        ,  0.        ,  0.        ,\n",
      "        0.        , -0.        ,  0.        , -0.        , -0.        ,\n",
      "       -0.        , -0.        ,  0.        ,  0.        , -0.        ,\n",
      "        0.        ,  0.        ,  0.        , -0.        , -0.        ,\n",
      "        0.        , -0.        ,  0.        , -0.        ,  0.        ,\n",
      "        0.        ,  0.        , -0.        ,  0.        , -0.        ,\n",
      "        0.        ,  0.        ,  0.        ,  0.        ,  0.        ,\n",
      "        0.        , -0.        , -0.        ,  0.        ,  0.        ,\n",
      "       -0.        , -0.        ,  0.        , -0.        , -0.        ,\n",
      "       -0.        ,  0.        , -0.        , -0.        ,  0.        ,\n",
      "       -0.        , -0.        , -0.        ,  0.        ,  0.        ,\n",
      "        0.        ,  0.        , -0.        , -0.        , -0.        ,\n",
      "        0.        , -0.        , -0.        ,  0.        ,  0.        ,\n",
      "        0.        ,  0.        ,  0.        , -0.        , -0.        ,\n",
      "        0.        , -0.        , -0.        , -0.        ,  0.        ,\n",
      "       -0.        , -0.        , -0.        ,  0.        , -0.        ,\n",
      "       -0.        , -0.        ,  0.        , -0.        ,  0.        ,\n",
      "        0.        ,  0.        ,  0.        ,  0.        ,  0.        ,\n",
      "        0.        , -0.        ,  0.        ,  0.        ,  0.        ,\n",
      "       -0.        ,  0.        ,  0.        ,  0.        ,  0.        ,\n",
      "        0.        ,  0.        , -0.        ,  0.        ,  0.        ,\n",
      "        0.        , -0.        ,  0.        , -0.        ,  0.        ,\n",
      "       -0.        ,  0.        , -0.        ,  0.        ,  0.        ,\n",
      "        0.        ,  0.        , -0.        ,  0.        ,  0.        ,\n",
      "        0.        , -0.        ,  0.        ,  0.        , -0.        ,\n",
      "        0.        ,  0.        , -0.        ,  0.        ,  3.79665263,\n",
      "        0.        ,  0.        ,  0.        , -5.00421026, -0.        ,\n",
      "        0.        , -0.        , -0.        , -5.12341498,  0.        ,\n",
      "        0.        ,  0.        , -0.        , -0.        ,  0.        ,\n",
      "       -0.        ,  0.        , -0.        ,  0.        ,  0.        ,\n",
      "       -0.        , -0.        ,  0.        , -0.        ,  0.        ,\n",
      "       -0.        ,  0.        , -0.        , -0.        ,  0.        ,\n",
      "       -0.        ,  0.        , -0.        ,  0.        ,  0.        ,\n",
      "       -0.        ,  0.        , -0.        ,  0.        ,  0.        ,\n",
      "       -0.        ,  0.        ,  0.        ,  0.        ,  0.        ,\n",
      "       -0.        ,  0.        , -0.        ,  0.        ,  0.        ,\n",
      "        0.        ,  0.        ,  0.        ,  0.        ,  0.99357   ,\n",
      "        0.        ,  0.        , -0.        , -0.        ,  0.        ,\n",
      "       -0.        , -0.        , -0.        ,  0.        ,  0.        ,\n",
      "       -0.        ,  0.        ,  0.        , -0.        , -0.        ,\n",
      "       -0.        ,  1.21439421, -0.        ,  0.        ,  0.        ,\n",
      "        0.        , -0.        , -0.        ,  0.        , -0.        ,\n",
      "       -0.        , -0.        ,  0.        ,  0.        ,  0.        ,\n",
      "        0.        ,  0.        , -0.        ,  0.        ,  0.        ,\n",
      "       -0.        , -0.        , -0.        ,  0.        , -0.        ,\n",
      "        0.        ,  0.        ,  0.        ,  0.        ,  0.        ,\n",
      "        0.        , -0.        , -0.        ,  0.        , -0.        ,\n",
      "       -0.        , -0.        ,  0.        , -0.        , -0.        ,\n",
      "        0.        ,  0.        , -0.        , -0.        ,  0.        ,\n",
      "        0.        , -0.        ,  0.        ,  0.        ,  0.        ,\n",
      "       -0.        , -0.        ,  0.        , -0.        , -0.        ,\n",
      "        0.        , -0.        , -0.        , -0.        ,  0.        ,\n",
      "       -0.        ,  0.        ,  0.        , -0.        ,  0.        ,\n",
      "        0.        , -0.        , -0.        ,  0.        ,  0.        ,\n",
      "       -0.        , -0.        ,  0.        ,  0.        , -0.        ,\n",
      "       -0.        ,  0.        ,  0.        , -0.        , -0.        ,\n",
      "        0.        , -0.        ,  0.        ,  0.        ,  0.        ,\n",
      "       -0.        , -0.        ,  4.34452911, -0.        ,  0.        ,\n",
      "        0.        , -0.        ,  0.        , -0.        , -0.        ,\n",
      "        0.89597771, -0.        , -0.        , -0.        ,  0.        ,\n",
      "        0.        , -0.        ,  0.        , -0.        , -0.        ,\n",
      "        0.        ,  0.        ,  0.        , -0.        ,  0.        ,\n",
      "       -0.        , -0.        ,  0.        , -0.        , -0.        ,\n",
      "       -0.        ,  0.        , -0.        , -0.        , -0.        ,\n",
      "        0.        , -0.        ,  0.        ,  0.        , -0.        ,\n",
      "       -0.        ,  0.        , -0.        , -0.        ,  1.40466482,\n",
      "       -0.        , -0.        , -0.        ,  0.        , -0.        ,\n",
      "        0.        ,  0.        ,  0.        ,  0.        ,  0.        ,\n",
      "       -0.        , -0.        ,  0.        , -0.        , -0.        ,\n",
      "       -0.        , -0.        , -0.        , -1.99050391]), array([-0.,  0.,  0., ...,  0.,  0.,  0.])]\n"
     ]
    }
   ],
   "source": [
    "print('RMSE:',RMSE)\n",
    "print('Lambdas:',Alphas)\n",
    "print('Coefficients:',coef)"
   ],
   "metadata": {
    "collapsed": false,
    "pycharm": {
     "name": "#%%\n"
    }
   }
  },
  {
   "cell_type": "code",
   "execution_count": 82,
   "outputs": [
    {
     "name": "stdout",
     "output_type": "stream",
     "text": [
      "best degree is: 2 with rmse 21.794283814697213 lambda equals 1.7122121094265754\n",
      "With Coefficients [ 0.00000000e+00  0.00000000e+00  6.65011752e+00  4.92307212e+00\n",
      "  0.00000000e+00  1.48533725e+01 -7.56156285e+00 -0.00000000e+00\n",
      "  1.39308864e+01 -0.00000000e+00 -0.00000000e+00 -1.54996786e+01\n",
      "  0.00000000e+00  0.00000000e+00 -1.58651004e+00 -0.00000000e+00\n",
      "  0.00000000e+00  0.00000000e+00  0.00000000e+00  0.00000000e+00\n",
      "  0.00000000e+00 -0.00000000e+00  0.00000000e+00 -0.00000000e+00\n",
      " -0.00000000e+00  0.00000000e+00 -0.00000000e+00  0.00000000e+00\n",
      "  0.00000000e+00 -8.98591957e-03  0.00000000e+00  0.00000000e+00\n",
      " -0.00000000e+00  1.52907039e-01  0.00000000e+00  0.00000000e+00\n",
      "  0.00000000e+00  0.00000000e+00  0.00000000e+00 -2.59170269e+00\n",
      " -0.00000000e+00  0.00000000e+00 -0.00000000e+00 -0.00000000e+00\n",
      " -0.00000000e+00 -0.00000000e+00  0.00000000e+00  0.00000000e+00\n",
      " -0.00000000e+00 -0.00000000e+00  0.00000000e+00 -0.00000000e+00\n",
      "  0.00000000e+00 -0.00000000e+00 -0.00000000e+00 -0.00000000e+00\n",
      "  0.00000000e+00 -6.15709099e-01 -0.00000000e+00  0.00000000e+00\n",
      " -0.00000000e+00 -0.00000000e+00 -0.00000000e+00  0.00000000e+00\n",
      " -1.27223720e+00 -0.00000000e+00  0.00000000e+00 -0.00000000e+00\n",
      " -0.00000000e+00  0.00000000e+00  6.08006389e-01  0.00000000e+00\n",
      "  0.00000000e+00  0.00000000e+00  1.95094849e+00 -0.00000000e+00\n",
      " -0.00000000e+00  3.60230312e+00 -0.00000000e+00  0.00000000e+00\n",
      "  0.00000000e+00  0.00000000e+00 -0.00000000e+00 -0.00000000e+00\n",
      "  2.43689872e+00 -0.00000000e+00  5.46550486e-01  0.00000000e+00\n",
      " -0.00000000e+00  0.00000000e+00]\n"
     ]
    }
   ],
   "source": [
    "RMSE=np.array(RMSE)\n",
    "mindegree=np.argmin(RMSE)\n",
    "lasso_min=RMSE[mindegree]\n",
    "print('best degree is:',mindegree+1,'with rmse',RMSE[mindegree],'lambda equals',Alphas[mindegree])\n",
    "print('With Coefficients',coef[mindegree])\n"
   ],
   "metadata": {
    "collapsed": false,
    "pycharm": {
     "name": "#%%\n"
    }
   }
  },
  {
   "cell_type": "code",
   "execution_count": 83,
   "outputs": [
    {
     "data": {
      "text/plain": "<AxesSubplot: ylabel='Density'>"
     },
     "execution_count": 83,
     "metadata": {},
     "output_type": "execute_result"
    },
    {
     "data": {
      "text/plain": "<Figure size 432x288 with 1 Axes>",
      "image/png": "[encoded data removed]"
     },
     "metadata": {
      "needs_background": "light"
     },
     "output_type": "display_data"
    }
   ],
   "source": [
    "sns.kdeplot(RMSE)"
   ],
   "metadata": {
    "collapsed": false,
    "pycharm": {
     "name": "#%%\n"
    }
   }
  },
  {
   "cell_type": "markdown",
   "metadata": {
    "id": "M8SOg6KEuQYq"
   },
   "source": [
    "### 9a- Evaluate different degrees of Ridge CV polynomial regression"
   ]
  },
  {
   "cell_type": "code",
   "execution_count": 113,
   "metadata": {
    "id": "P16W3rE7aseR"
   },
   "outputs": [],
   "source": [
    "RMSE=[]\n",
    "Alphas=[]\n",
    "coef=[]\n",
    "MEA=[]\n",
    "\n",
    "\n",
    "\n"
   ]
  },
  {
   "cell_type": "code",
   "execution_count": 114,
   "metadata": {
    "collapsed": true,
    "id": "IqWaySbcuQYq"
   },
   "outputs": [
    {
     "name": "stdout",
     "output_type": "stream",
     "text": [
      "[[-5.73476260e-01 -5.75367233e-01 -6.27460782e-01 ...  3.39146909e-01\n",
      "  -2.49105885e-01  1.82970095e-01]\n",
      " [ 2.96726225e-01 -1.37220399e+00 -6.27460782e-01 ...  1.55955385e-02\n",
      "   1.18447052e-01  8.99597287e-01]\n",
      " [ 1.74706370e+00  1.24597392e+00 -6.27460782e-01 ...  4.64136322e-02\n",
      "  -2.36863038e-02  1.20878493e-02]\n",
      " ...\n",
      " [-2.83408765e-01  4.49137165e-01 -6.27460782e-01 ...  1.63075524e-04\n",
      "  -5.61731013e-04  1.93494231e-03]\n",
      " [-2.83408765e-01  1.58747538e+00 -6.27460782e-01 ...  4.50195187e-02\n",
      "   1.26511244e-02  3.55514573e-03]\n",
      " [ 1.74706370e+00 -1.37220399e+00 -6.27460782e-01 ...  1.90307037e+00\n",
      "   5.46725384e-01  1.57066522e-01]]\n"
     ]
    }
   ],
   "source": [
    "for i in range(1,5):\n",
    "  polynomial_converter = PolynomialFeatures(degree=i,include_bias=False)\n",
    "  poly_features = polynomial_converter.fit_transform(X_train)\n",
    "  ridge_cv_model = RidgeCV(alphas=(0.1, 1.0, 2.0, 3.0, 4.0, 5.0, 7.0, 8.0, 9.0, 10.0),scoring='neg_mean_absolute_error')\n",
    "  ridge_cv_model.fit(poly_features,y_train)\n",
    "  poly_test = polynomial_converter.fit_transform(X_test)\n",
    "  test_pred = ridge_cv_model.predict(poly_test)\n",
    "  Alphas.append(ridge_cv_model.alpha_)\n",
    "  coef.append(ridge_cv_model.coef_)\n",
    "  tr_pr=ridge_cv_model.predict(poly_features)\n",
    "  mse= mean_squared_error(y_test,test_pred)\n",
    "  mea=mean_absolute_error(y_test,test_pred)\n",
    "  mse1=mean_squared_error(y_train,tr_pr)\n",
    "  rmse1=np.sqrt(mse1)\n",
    "  rmse=np.sqrt(mse)\n",
    "  RMSE.append(rmse)\n"
   ]
  },
  {
   "cell_type": "markdown",
   "metadata": {
    "id": "8Bj_3j9RuQYr"
   },
   "source": [
    "### 9b- Choose the best degree and print the errors, model coefficients and the Ridge parameters."
   ]
  },
  {
   "cell_type": "code",
   "execution_count": 98,
   "metadata": {
    "colab": {
     "base_uri": "https://localhost:8080/"
    },
    "id": "4q5E5NnbuQYr",
    "outputId": "80b8ab80-0c83-494e-e83f-69133d398f9e"
   },
   "outputs": [
    {
     "name": "stdout",
     "output_type": "stream",
     "text": [
      "RMSE: [22.771198492470567, 19.265747704811417, 16.798877326271256, 15.19606063059892]\n",
      "Lambdas: [0.1, 0.1, 1.0, 8.0]\n",
      "Coefficients: [array([ -2.54386568,   0.35251565,   6.39467884,   5.35048547,\n",
      "         0.07231077,  26.1827747 ,  -6.92763539, -19.87677122,\n",
      "        16.78259316,   6.23573483,   0.31863906, -11.10542875]), array([ 7.86308857e+00,  1.82842053e+00,  1.79382571e+00,  4.46466920e+00,\n",
      "        1.57742474e+01,  3.32073621e+01, -1.84423699e+00, -2.45534995e+01,\n",
      "        4.77944656e+00,  5.89114704e+01,  3.97453622e+01, -5.52507440e+01,\n",
      "       -6.20530751e+00, -2.97827636e+00,  2.22345316e+00,  2.48556585e+00,\n",
      "       -1.28561230e+00,  1.19266836e+01,  5.09891451e+00, -1.29541141e+01,\n",
      "        5.52261612e+00,  2.18016550e+01,  1.34311699e+01, -9.46639047e+00,\n",
      "       -6.63599892e-01,  5.58830652e-01,  1.96176957e-02, -3.30938942e+00,\n",
      "        1.00050346e+01,  3.33260582e+00, -6.67736043e+00,  1.53040104e+00,\n",
      "        1.73266122e+00,  2.76664085e+00,  3.00583006e+00,  1.73330978e+00,\n",
      "        4.88089732e+00,  7.81274904e-01,  7.11228596e+00, -3.74430297e+00,\n",
      "       -1.53815029e+01,  6.27749470e+00,  2.61553367e+01,  1.94794936e+01,\n",
      "       -1.86840342e+01, -1.46840344e+00,  1.36457582e-01, -6.42878827e-01,\n",
      "        2.96536727e-01,  6.33492595e+00, -1.70547717e+00,  1.89663150e+00,\n",
      "        2.81689137e+00, -4.36785280e+00, -5.39961345e+00, -1.20530313e+00,\n",
      "       -2.93360614e+00, -3.59557216e+00,  1.08204044e+01,  1.87203839e+00,\n",
      "        9.10395970e+00, -7.71891209e+00, -2.00598021e+01, -1.10418481e+01,\n",
      "        3.58171935e+01,  4.32987769e+00,  1.38444046e+00, -2.33162362e+00,\n",
      "       -2.24093093e+01,  6.78567015e-01,  1.58275020e+01,  9.16860211e+00,\n",
      "        5.92942454e-01, -8.38317232e-01, -5.47546807e+00, -1.96794116e+01,\n",
      "        5.98708917e+00,  3.19353538e+01,  1.71187925e+01,  1.28251811e+01,\n",
      "       -4.93079839e+00, -1.73452855e+01, -2.06115736e+01,  1.18932274e+01,\n",
      "       -3.43519820e-01,  1.38970848e+01,  1.05086361e+00,  1.42821886e+00,\n",
      "       -9.72484024e+00, -2.20576592e+00]), array([  4.01031311,   0.37482124,   1.54256769,  13.99386411,\n",
      "         6.67258419,  17.73188052,   5.15057224, -17.93729448,\n",
      "        20.81113757,  -2.02278968,   1.66251266,  -5.7810173 ,\n",
      "       -25.08277608,   0.13854413, -30.66353283,   0.35092796,\n",
      "        -1.99578856,  -1.07695018,   4.22887511,   0.03465387,\n",
      "         5.64400939,   9.68139035,   0.7563891 ,  -6.48223458,\n",
      "        -2.28473471,  -2.40095692,  -0.69640793,   2.93791804,\n",
      "         8.10884508,  11.86011713,   0.65265534,  -0.75859047,\n",
      "       -13.0004137 ,  -8.45615915,   8.4274749 ,   1.49052813,\n",
      "        -4.41459624,  -2.80537013,   2.99209777,  19.99192133,\n",
      "         7.92776806,  -6.11772565,  10.56142866,  -0.17788999,\n",
      "         4.9698127 ,  -3.90819039,  -4.32775762,  -2.71333814,\n",
      "         1.66241679,   5.30043016,   5.15401363, -14.78776574,\n",
      "        -6.9766337 ,   7.16410133,  -9.30645984,  18.02782687,\n",
      "       -10.6561102 , -21.40842002,   9.83079646,   3.09132821,\n",
      "        10.5505991 ,   7.37186323, -13.92793114, -11.01490837,\n",
      "        -4.97067672,   7.2594985 ,   3.35360203,  -8.46351442,\n",
      "        -9.03364993,   3.93947829,  15.18273995,  19.53269831,\n",
      "         3.86504183,  -4.85754713,   8.3181999 ,  14.85053002,\n",
      "         1.42842178,  -1.75079395,  -4.07146503,   8.8099682 ,\n",
      "        -5.16429221,   7.58673645,   0.95454234,  -3.15984247,\n",
      "       -24.51267494,  -4.13850371,   7.36370485,   8.25627956,\n",
      "       -26.32068584,  10.43247193,   8.58723374,   3.60574916,\n",
      "       -15.76390195,  -5.37417998,   9.06295162, -12.59417096,\n",
      "         2.41042867,  19.73022645,  -8.83751627, -11.65235437,\n",
      "        -6.84386539,  -1.26396683,  -6.56652851,  -2.81866584,\n",
      "         0.87962828,   2.33722238, -13.31297764,  -1.57131273,\n",
      "        10.09059205,   3.30357094,  -8.57298679,  -4.9651715 ,\n",
      "         0.68778604, -25.61876462,  -2.97914135,  28.15316771,\n",
      "         8.33915747,  13.97555377, -15.65582465, -11.28956723,\n",
      "        15.62169433,   8.7575513 , -21.45100049,   0.08519485,\n",
      "        -1.04385654,   7.58034469,   0.85407949,  -7.59497197,\n",
      "        -0.34066601,  -0.42621157,   1.50194904,   3.22218502,\n",
      "        -4.96317038,  -3.6187383 ,  -0.87255516,  15.95131634,\n",
      "         0.10116954,   4.25977045,   8.98869072,  -0.74018186,\n",
      "         8.98002436,  14.31305104, -15.06981831,   8.61446313,\n",
      "        -3.91033217,   1.42198811,  -6.87422579,   6.4869978 ,\n",
      "        -7.57401961,   8.86391065, -10.76791841,  -3.83248106,\n",
      "         9.6398748 ,  -1.20546264,  -1.01828317,   2.74903608,\n",
      "        -4.1574269 ,   4.34228132,  -0.5262082 ,  -3.94738138,\n",
      "        -5.92546674,   7.50531506,  -7.18504233, -14.63314749,\n",
      "        -5.23357039,  -4.63141278,   1.55726771,  -4.75941467,\n",
      "         0.20841923,  -1.68169501,  -0.6560937 ,  -1.3144028 ,\n",
      "         3.37345141,  -1.44590154,  -4.4626436 ,  -0.31720559,\n",
      "         1.99144032,   1.04421068,   5.35187384,  -1.94513777,\n",
      "         1.58692868,   2.594405  ,   3.40960312,   2.64068644,\n",
      "        -0.03358157,  -0.75305294,  12.69848856,  12.73900667,\n",
      "       -19.26785998,  -0.60712696,  -2.55812107,  -3.6308988 ,\n",
      "        -0.69385912,   5.21090651,   2.03802622,  -2.81762492,\n",
      "        -0.8035871 ,  -0.92172251,   0.22812861,  -0.28960354,\n",
      "        -0.85168471,   0.79909491,  -3.53135567,   0.09755244,\n",
      "         2.70442195,  -4.80941136,  12.25922462,  -0.31274412,\n",
      "       -16.71983721, -12.07453629,  -1.79901891,  -4.69082271,\n",
      "        20.58828563,  -1.45363612,   7.55179179,  -2.23206918,\n",
      "        -4.29759012,  -4.67940128,   2.74499149,   4.38164277,\n",
      "        15.19581159,   3.7815755 ,   5.34381773, -10.8762738 ,\n",
      "         1.48825802,  -5.38383192,  -6.48085055,  -5.22485847,\n",
      "        14.59295698,  20.27565662, -22.62555581,   7.91896414,\n",
      "       -15.60268045,   7.38417142,   2.98281184,   9.72819727,\n",
      "         3.96185513,  20.62303784,  24.46805253, -10.27697506,\n",
      "        14.89979754,   8.18234202,   1.49062392,  -0.97886461,\n",
      "        -0.88583954,  -3.03867949,   1.68747327,   1.70261215,\n",
      "         4.10098479,   3.27361834,   5.77648629,   3.69497757,\n",
      "        -8.39736419,   2.6729717 ,  -0.06669668,  -2.50337521,\n",
      "        -6.14998266,  -4.3895214 ,  -6.08164025,   2.43603198,\n",
      "         0.90362007,   4.80414141,  18.39700642,  -2.88082872,\n",
      "         2.89686742,   6.54272147,  -6.37409751,  -2.23862303,\n",
      "        10.80295141,  13.14048302,   5.22382836,  -5.40456671,\n",
      "        -9.90300489,   4.53728352,   9.49725344,  14.52547314,\n",
      "       -21.52341772,   2.51120566,   4.71389329,  -3.97740832,\n",
      "        12.25221565,   0.71465336,  -4.64194348, -10.08290519,\n",
      "        -9.12363879,  14.24111881,   1.00871217, -19.11905518,\n",
      "         7.21271267,  -6.18358538,   1.58987923,  -0.63497082,\n",
      "        -1.99131364,   1.30812362,  -5.66576153,   3.504724  ,\n",
      "         2.03477386,  -3.1627777 ,  -1.76001789,   1.56823421,\n",
      "         2.38715641,   1.19149298,   2.57433076, -10.59878273,\n",
      "        -4.55493687,   6.46858714,  -0.22524695,  -0.5594849 ,\n",
      "         1.45722416,  -1.23341029,  20.78981827,  10.53323015,\n",
      "       -12.74136659,  -1.12161673,  -5.58590016,   1.09682197,\n",
      "         1.75337229,  -0.30784027,  -1.6930569 ,  -6.14140912,\n",
      "         4.16670227,   4.45737341,   1.81764506,  -1.34114579,\n",
      "        -1.27247239, -11.05559355,  -5.49254726,   5.01778088,\n",
      "         3.1335781 ,   9.34854138, -11.90683076,   4.96065553,\n",
      "       -10.58521975,   3.1089654 ,  -1.61243138,   6.57682223,\n",
      "         3.92741048,  -0.03370799,   1.91507559,   1.40786966,\n",
      "        -0.05647746,  -0.89673813,  -8.16323309,  -7.26828065,\n",
      "         7.48758007,  -2.57175568,  -7.86482757,  -7.02568239,\n",
      "        -8.30587678,   2.23774465,  10.582053  ,  -0.53675852,\n",
      "         3.73395104,   6.75675643,  -6.12712914,   3.58099117,\n",
      "        -9.51460814,   2.50829861,  10.52663886,  -2.23187338,\n",
      "         4.55403609,   9.74415578,   9.63731943,   2.43591018,\n",
      "         4.76076101,  -4.56455987,  -2.95071391,  -4.67600781,\n",
      "         7.14065747,  -6.09441355,   0.61665692,  -0.26382693,\n",
      "         2.83815215,   3.31806526,  -2.03594926,   3.17972392,\n",
      "        20.94725865,  -4.06119972,   6.81981336,  -8.57646465,\n",
      "       -12.35786361,  -8.62469169,  15.91528632,  -9.44829711,\n",
      "        12.2515108 ,  -3.86462803,  -8.63864935, -12.18118284,\n",
      "       -14.42932755, -16.7203764 , -17.73145532,   1.65068762,\n",
      "        -3.88891762,  -8.6390937 ,   5.52774636,   6.96206191,\n",
      "        -5.42810636,  22.3740252 ,  -0.45047983,  11.15520327,\n",
      "        -4.59238704,   1.88570177,  -2.30125904,  -4.44985355,\n",
      "         1.13183876,  11.9416204 ,  -7.92641541,  -5.27229608,\n",
      "       -10.51500143,  -7.16116311,  13.60036413,   0.07399527,\n",
      "        -5.6299816 ,   3.34011212,   3.38310896,   8.76261608,\n",
      "         3.24635617,  -1.96273295,   2.66533694,   6.20108205,\n",
      "        -7.3667106 ,  -3.60256343,   2.04952264,   2.22028983,\n",
      "        10.19129452,  11.74336883,   0.37564682,   4.43414818,\n",
      "        -4.14173376,   2.39955916, -11.17726586,  -0.39753739,\n",
      "       -17.23411523,  -5.17994352,  -1.46271301,   7.69414973,\n",
      "         5.04021451,  -9.58655769,   8.5550282 ,  14.90412326,\n",
      "         2.76199712,  -1.27899874,   3.87264404,  -9.41128229,\n",
      "        -0.63129063,  -7.23966866,  -1.83245643,   3.87611631,\n",
      "        -4.94824329,   3.1919182 ,   2.21226175,  -1.92014348,\n",
      "         5.39668705,   3.28516648]), array([ 5.82689723, -2.03904764,  0.54262245, ...,  0.95202959,\n",
      "        4.70024886, -2.51969397])]\n"
     ]
    }
   ],
   "source": [
    "print('RMSE:',RMSE)\n",
    "print('Lambdas:',Alphas)\n",
    "print('Coefficients:',coef)"
   ]
  },
  {
   "cell_type": "code",
   "execution_count": 99,
   "outputs": [
    {
     "name": "stdout",
     "output_type": "stream",
     "text": [
      "best degree is: 4 with rmse 15.19606063059892 lambda equals 8.0\n",
      "With Coefficients [ 5.82689723 -2.03904764  0.54262245 ...  0.95202959  4.70024886\n",
      " -2.51969397]\n"
     ]
    }
   ],
   "source": [
    "RMSE=np.array(RMSE)\n",
    "mindegree=np.argmin(RMSE)\n",
    "ridge_min=RMSE[mindegree]\n",
    "print('best degree is:',mindegree+1,'with rmse',RMSE[mindegree],'lambda equals',Alphas[mindegree])\n",
    "print('With Coefficients',coef[mindegree])"
   ],
   "metadata": {
    "collapsed": false,
    "pycharm": {
     "name": "#%%\n"
    }
   }
  },
  {
   "cell_type": "code",
   "execution_count": 100,
   "outputs": [
    {
     "data": {
      "text/plain": "<AxesSubplot: ylabel='Density'>"
     },
     "execution_count": 100,
     "metadata": {},
     "output_type": "execute_result"
    },
    {
     "data": {
      "text/plain": "<Figure size 432x288 with 1 Axes>",
      "image/png": "[encoded data removed]"
     },
     "metadata": {
      "needs_background": "light"
     },
     "output_type": "display_data"
    }
   ],
   "source": [
    "sns.kdeplot(RMSE)"
   ],
   "metadata": {
    "collapsed": false,
    "pycharm": {
     "name": "#%%\n"
    }
   }
  },
  {
   "cell_type": "markdown",
   "metadata": {
    "id": "MN4RwweLuQYr"
   },
   "source": [
    "### 10a- Evaluate different degrees of ElasticNet CV polynomial regression"
   ]
  },
  {
   "cell_type": "code",
   "execution_count": 101,
   "outputs": [],
   "source": [
    "RMSE=[]\n",
    "Alphas=[]\n",
    "coef=[]\n",
    "MEA=[]\n",
    "l1=[]"
   ],
   "metadata": {
    "collapsed": false,
    "pycharm": {
     "name": "#%%\n"
    }
   }
  },
  {
   "cell_type": "code",
   "execution_count": 102,
   "outputs": [],
   "source": [
    "from sklearn.linear_model import ElasticNetCV\n",
    "\n",
    "for i in range(1,5):\n",
    "  polynomial_converter = PolynomialFeatures(degree=i,include_bias=False)\n",
    "  poly_features = polynomial_converter.fit_transform(X_train)\n",
    "  elastic_model = ElasticNetCV(l1_ratio=[.1,.25, .5,.75, 1], tol=0.01)\n",
    "  elastic_model.fit(poly_features,y_train)\n",
    "  poly_test = polynomial_converter.fit_transform(X_test)\n",
    "  test_pred = elastic_model.predict(poly_test)\n",
    "  Alphas.append(elastic_model.alpha_)\n",
    "  coef.append(elastic_model.coef_)\n",
    "  mse= mean_squared_error(y_test,test_pred)\n",
    "  mea=mean_absolute_error(y_test,test_pred)\n",
    "  rmse=np.sqrt(mse)\n",
    "  RMSE.append(rmse)\n"
   ],
   "metadata": {
    "collapsed": false,
    "pycharm": {
     "name": "#%%\n"
    }
   }
  },
  {
   "cell_type": "markdown",
   "metadata": {
    "id": "JSt5s73XuQYr"
   },
   "source": [
    "### 10b- Choose the best degree and print the errors, model coefficients and ElasticNet parameters."
   ]
  },
  {
   "cell_type": "code",
   "execution_count": 103,
   "metadata": {
    "collapsed": true,
    "id": "UkbcQLlLuQYr"
   },
   "outputs": [
    {
     "name": "stdout",
     "output_type": "stream",
     "text": [
      "RMSE: [22.78487344471668, 19.534392127739256, 18.053469546796183, 17.76941513197033]\n",
      "Lambdas: [0.034244242188531525, 0.03424424218853151, 0.11809326746205985, 0.29875271017369426]\n",
      "Coefficients: [array([-1.76527426e+00,  3.66687669e-01,  7.14385415e+00,  5.41580526e+00,\n",
      "        5.48091122e-03,  2.46730625e+01, -7.11613959e+00, -1.78636944e+01,\n",
      "        1.68175762e+01,  5.32985641e+00, -3.15030019e-01, -1.13599571e+01]), array([ 8.21102518e+00,  1.89242494e+00,  3.93025059e+00,  4.49953392e+00,\n",
      "        1.48318557e+01,  2.63175449e+01, -4.19711127e+00, -1.33512501e+01,\n",
      "        3.20013396e+00,  0.00000000e+00, -3.21698326e-01, -1.53885978e+01,\n",
      "       -4.00505346e+00, -2.18309325e+00,  2.11987673e-02,  1.46852132e+00,\n",
      "        1.03415410e+00,  3.95431415e+00,  9.37775257e-01,  0.00000000e+00,\n",
      "       -0.00000000e+00,  1.16250179e+00, -4.79830077e-02, -3.54079770e+00,\n",
      "       -2.88289834e-01,  1.17333650e+00,  0.00000000e+00, -2.84355449e+00,\n",
      "        6.25031857e+00,  2.33039195e+00, -2.63941588e+00,  1.46467672e+00,\n",
      "       -0.00000000e+00,  1.59602025e+00,  2.30964221e+00,  5.11434940e-01,\n",
      "        3.39892435e+00,  1.19900861e+00, -1.30844917e+00, -1.02737623e+01,\n",
      "       -1.53393078e+00,  2.35839814e-01,  0.00000000e+00,  9.05791280e-01,\n",
      "       -6.70936063e+00, -1.10907220e+00, -2.35829254e-01,  0.00000000e+00,\n",
      "        0.00000000e+00,  5.41768023e+00, -9.34437573e-01,  0.00000000e+00,\n",
      "        1.97308023e+00, -3.18532073e+00, -3.30222685e+00,  4.19773717e-01,\n",
      "       -0.00000000e+00, -1.78749636e+00,  6.64829483e+00, -1.20839736e+00,\n",
      "        6.31001485e+00, -7.01244552e+00, -5.00777702e+00,  0.00000000e+00,\n",
      "        6.95340516e-01,  5.74473084e-01,  4.67818616e+00, -4.64048298e-01,\n",
      "       -0.00000000e+00,  7.67127645e-01,  1.64224739e+00,  2.91812564e+00,\n",
      "       -0.00000000e+00, -4.30125507e-01,  2.55757729e+00, -0.00000000e+00,\n",
      "        2.43700885e+00,  5.56706817e+00, -0.00000000e+00,  4.46975927e+00,\n",
      "       -2.00508019e+00, -1.19317712e+00, -8.46163711e+00,  0.00000000e+00,\n",
      "       -2.65408779e-01,  3.29075163e-02,  3.59634645e+00,  1.30069628e+00,\n",
      "       -3.64091953e-01, -2.17501655e+00]), array([ 9.11199594e+00, -0.00000000e+00,  0.00000000e+00,  1.27726266e+01,\n",
      "        4.43689419e+00,  1.36461468e+01, -0.00000000e+00, -0.00000000e+00,\n",
      "        1.22261556e+01, -0.00000000e+00, -0.00000000e+00, -1.38977059e+01,\n",
      "       -2.46817480e+00,  0.00000000e+00, -0.00000000e+00,  0.00000000e+00,\n",
      "       -0.00000000e+00,  2.81621166e+00, -0.00000000e+00,  0.00000000e+00,\n",
      "        0.00000000e+00,  0.00000000e+00, -6.12367364e-01, -7.09783520e-01,\n",
      "       -1.27426325e+00, -0.00000000e+00, -4.28817348e-02, -0.00000000e+00,\n",
      "        1.02105894e+00,  7.09117320e-02,  0.00000000e+00,  0.00000000e+00,\n",
      "       -7.64126719e-01,  0.00000000e+00, -0.00000000e+00,  0.00000000e+00,\n",
      "        0.00000000e+00,  0.00000000e+00, -0.00000000e+00,  0.00000000e+00,\n",
      "       -0.00000000e+00, -0.00000000e+00, -0.00000000e+00,  0.00000000e+00,\n",
      "       -0.00000000e+00, -2.33633277e+00, -0.00000000e+00,  0.00000000e+00,\n",
      "       -0.00000000e+00, -0.00000000e+00,  6.03119489e-01, -4.84954619e-01,\n",
      "        1.41119163e+00, -0.00000000e+00, -0.00000000e+00, -0.00000000e+00,\n",
      "        0.00000000e+00, -1.46650093e+00, -0.00000000e+00, -0.00000000e+00,\n",
      "        2.70805021e+00, -0.00000000e+00, -3.17032908e+00,  0.00000000e+00,\n",
      "       -0.00000000e+00, -0.00000000e+00,  0.00000000e+00, -0.00000000e+00,\n",
      "        0.00000000e+00, -0.00000000e+00,  0.00000000e+00,  3.89519223e-01,\n",
      "        0.00000000e+00,  0.00000000e+00,  3.83181693e+00, -0.00000000e+00,\n",
      "       -2.29418897e-01,  1.01495084e+00, -0.00000000e+00,  1.32274422e+00,\n",
      "       -1.69456008e+00, -0.00000000e+00, -5.71948945e+00, -6.19102569e-01,\n",
      "        2.08699733e+00, -0.00000000e+00,  3.16594893e+00,  0.00000000e+00,\n",
      "       -0.00000000e+00,  0.00000000e+00,  1.43311615e+00,  2.14508741e+00,\n",
      "       -2.06560942e+00, -1.49655451e+00,  0.00000000e+00, -0.00000000e+00,\n",
      "        7.49073165e-04,  0.00000000e+00, -0.00000000e+00,  0.00000000e+00,\n",
      "       -0.00000000e+00, -0.00000000e+00, -2.10941393e+00,  0.00000000e+00,\n",
      "       -3.40472881e-01,  0.00000000e+00, -0.00000000e+00, -4.17886611e-01,\n",
      "       -0.00000000e+00,  1.17636888e-01,  0.00000000e+00, -1.57975092e+00,\n",
      "        0.00000000e+00,  0.00000000e+00, -0.00000000e+00, -0.00000000e+00,\n",
      "        0.00000000e+00,  0.00000000e+00, -0.00000000e+00,  0.00000000e+00,\n",
      "        0.00000000e+00,  0.00000000e+00,  0.00000000e+00,  0.00000000e+00,\n",
      "       -7.59186843e-02,  0.00000000e+00, -0.00000000e+00,  0.00000000e+00,\n",
      "       -0.00000000e+00,  0.00000000e+00,  3.39000946e-01,  6.16992555e-01,\n",
      "       -0.00000000e+00, -0.00000000e+00,  0.00000000e+00, -0.00000000e+00,\n",
      "       -0.00000000e+00,  0.00000000e+00,  5.91157801e-01,  0.00000000e+00,\n",
      "        7.74716098e-01, -0.00000000e+00, -2.04928078e-01,  0.00000000e+00,\n",
      "        0.00000000e+00, -6.32403766e-01, -3.61119449e-01, -2.02375585e-01,\n",
      "        0.00000000e+00,  0.00000000e+00, -0.00000000e+00,  6.65322400e-01,\n",
      "        9.58571924e-01, -0.00000000e+00, -3.12275728e-02,  0.00000000e+00,\n",
      "       -0.00000000e+00, -0.00000000e+00,  0.00000000e+00, -0.00000000e+00,\n",
      "       -0.00000000e+00, -5.80556583e-01,  0.00000000e+00,  0.00000000e+00,\n",
      "       -0.00000000e+00,  0.00000000e+00,  5.72975605e-01, -3.41567718e+00,\n",
      "        7.25578296e-01,  1.87860378e+00, -2.52068216e-01,  0.00000000e+00,\n",
      "        0.00000000e+00, -0.00000000e+00, -1.83728173e-01,  0.00000000e+00,\n",
      "        2.05417752e+00, -2.85463927e-01,  2.28216954e+00, -1.20518031e+00,\n",
      "        0.00000000e+00,  0.00000000e+00,  1.72137127e+00, -0.00000000e+00,\n",
      "        0.00000000e+00, -0.00000000e+00, -0.00000000e+00,  1.65861287e+00,\n",
      "       -3.19560277e+00, -5.75513930e-01, -0.00000000e+00,  0.00000000e+00,\n",
      "       -0.00000000e+00,  0.00000000e+00,  7.37566513e-02, -2.67138425e-03,\n",
      "        0.00000000e+00, -0.00000000e+00, -0.00000000e+00,  0.00000000e+00,\n",
      "       -0.00000000e+00, -7.31583280e-01, -5.70475992e-04, -0.00000000e+00,\n",
      "        0.00000000e+00,  0.00000000e+00,  6.47123513e-01, -2.91535141e-01,\n",
      "       -0.00000000e+00,  0.00000000e+00, -0.00000000e+00,  0.00000000e+00,\n",
      "        1.46397611e+00,  0.00000000e+00,  6.47170881e-01, -0.00000000e+00,\n",
      "        9.47138808e-01, -3.81382800e-01,  0.00000000e+00, -0.00000000e+00,\n",
      "       -0.00000000e+00, -0.00000000e+00,  5.92034605e-02,  0.00000000e+00,\n",
      "       -0.00000000e+00,  4.66492780e-01, -1.24421399e+00,  0.00000000e+00,\n",
      "       -4.13671101e-01,  0.00000000e+00, -0.00000000e+00,  3.95530053e-01,\n",
      "        4.56501610e-01, -7.34137448e-01,  8.46363302e+00,  1.32193639e+00,\n",
      "        3.54300466e+00,  0.00000000e+00, -0.00000000e+00, -5.44289464e-04,\n",
      "        0.00000000e+00, -1.55088230e+00,  0.00000000e+00, -4.04721942e+00,\n",
      "       -2.55878197e-01,  1.80570099e+00,  0.00000000e+00,  0.00000000e+00,\n",
      "        0.00000000e+00,  0.00000000e+00, -0.00000000e+00, -0.00000000e+00,\n",
      "       -0.00000000e+00,  0.00000000e+00,  0.00000000e+00, -0.00000000e+00,\n",
      "        0.00000000e+00,  0.00000000e+00, -0.00000000e+00, -1.71167360e-01,\n",
      "       -3.32494464e+00, -2.66382696e+00,  0.00000000e+00,  0.00000000e+00,\n",
      "       -0.00000000e+00, -0.00000000e+00,  0.00000000e+00, -0.00000000e+00,\n",
      "        0.00000000e+00,  0.00000000e+00, -0.00000000e+00,  1.58869108e+00,\n",
      "       -0.00000000e+00,  0.00000000e+00,  9.18087065e-01,  0.00000000e+00,\n",
      "        0.00000000e+00, -0.00000000e+00, -0.00000000e+00, -0.00000000e+00,\n",
      "        0.00000000e+00, -0.00000000e+00,  0.00000000e+00,  0.00000000e+00,\n",
      "       -1.27655121e+00,  0.00000000e+00,  0.00000000e+00, -7.98958350e-01,\n",
      "        0.00000000e+00, -4.13371579e+00,  3.68461334e-01,  0.00000000e+00,\n",
      "       -0.00000000e+00,  0.00000000e+00, -1.78078623e+00,  2.96492739e-01,\n",
      "       -1.48317629e-01, -0.00000000e+00, -0.00000000e+00,  0.00000000e+00,\n",
      "        5.23824850e-03, -0.00000000e+00, -0.00000000e+00, -0.00000000e+00,\n",
      "       -0.00000000e+00, -6.50246456e-01,  3.59720406e-01, -0.00000000e+00,\n",
      "        4.57762031e-01, -0.00000000e+00,  0.00000000e+00,  5.24003383e-01,\n",
      "        0.00000000e+00, -4.66757702e-01, -1.96411605e+00,  0.00000000e+00,\n",
      "       -0.00000000e+00, -2.61070028e-01, -0.00000000e+00, -0.00000000e+00,\n",
      "        0.00000000e+00, -0.00000000e+00, -0.00000000e+00, -7.79430759e-01,\n",
      "       -0.00000000e+00, -0.00000000e+00,  1.80962510e-01, -0.00000000e+00,\n",
      "       -0.00000000e+00, -0.00000000e+00, -0.00000000e+00, -0.00000000e+00,\n",
      "       -0.00000000e+00, -3.22552247e-01,  0.00000000e+00,  0.00000000e+00,\n",
      "        1.10795215e-01, -0.00000000e+00,  9.34745043e-01, -0.00000000e+00,\n",
      "       -0.00000000e+00, -6.65526768e-01, -0.00000000e+00,  9.34506333e-02,\n",
      "       -0.00000000e+00,  0.00000000e+00, -0.00000000e+00, -0.00000000e+00,\n",
      "       -0.00000000e+00, -2.37398207e-02,  1.30832808e+00, -0.00000000e+00,\n",
      "        0.00000000e+00,  0.00000000e+00,  3.11837748e-01, -0.00000000e+00,\n",
      "        0.00000000e+00, -0.00000000e+00,  0.00000000e+00,  0.00000000e+00,\n",
      "        6.07461105e-01,  0.00000000e+00, -0.00000000e+00,  0.00000000e+00,\n",
      "       -0.00000000e+00, -0.00000000e+00, -0.00000000e+00,  2.74327304e-01,\n",
      "        1.43110647e-01, -0.00000000e+00, -0.00000000e+00,  0.00000000e+00,\n",
      "        0.00000000e+00,  0.00000000e+00,  2.03515531e+00, -0.00000000e+00,\n",
      "        3.58431804e-01, -0.00000000e+00, -0.00000000e+00, -0.00000000e+00,\n",
      "       -0.00000000e+00,  0.00000000e+00,  0.00000000e+00, -0.00000000e+00,\n",
      "       -0.00000000e+00,  0.00000000e+00, -1.01850624e-01,  6.07150665e-02,\n",
      "        0.00000000e+00, -0.00000000e+00, -0.00000000e+00,  0.00000000e+00,\n",
      "        2.78511400e+00, -3.24397515e+00,  0.00000000e+00,  0.00000000e+00,\n",
      "       -0.00000000e+00,  0.00000000e+00, -0.00000000e+00, -0.00000000e+00,\n",
      "        4.54592492e-01, -0.00000000e+00, -0.00000000e+00, -8.91444382e-01,\n",
      "       -0.00000000e+00,  0.00000000e+00, -0.00000000e+00,  2.88712521e-02,\n",
      "       -0.00000000e+00, -3.58064081e-04,  0.00000000e+00,  0.00000000e+00,\n",
      "        0.00000000e+00, -0.00000000e+00,  0.00000000e+00, -0.00000000e+00,\n",
      "       -0.00000000e+00,  0.00000000e+00, -0.00000000e+00, -0.00000000e+00,\n",
      "       -0.00000000e+00,  0.00000000e+00, -0.00000000e+00,  0.00000000e+00,\n",
      "        0.00000000e+00,  0.00000000e+00,  0.00000000e+00,  0.00000000e+00,\n",
      "       -0.00000000e+00, -0.00000000e+00, -0.00000000e+00, -0.00000000e+00,\n",
      "       -2.26484213e+00,  0.00000000e+00, -1.92308478e-01,  0.00000000e+00,\n",
      "       -0.00000000e+00,  4.38144583e-01, -0.00000000e+00,  3.01196942e+00,\n",
      "        0.00000000e+00, -0.00000000e+00,  0.00000000e+00, -0.00000000e+00,\n",
      "       -2.72111030e-01, -0.00000000e+00, -0.00000000e+00, -0.00000000e+00,\n",
      "       -4.68503951e-01, -1.58223317e+00,  8.13536635e-01,  0.00000000e+00,\n",
      "        0.00000000e+00,  9.59631904e-01]), array([ 1.17974928, -0.        ,  0.        , ...,  0.        ,\n",
      "        0.15707691,  0.        ])]\n"
     ]
    }
   ],
   "source": [
    "print('RMSE:',RMSE)\n",
    "print('Lambdas:',Alphas)\n",
    "print('Coefficients:',coef)\n"
   ]
  },
  {
   "cell_type": "code",
   "execution_count": 104,
   "outputs": [
    {
     "name": "stdout",
     "output_type": "stream",
     "text": [
      "best degree is: 4 with rmse 17.76941513197033 lambda equals 0.29875271017369426\n",
      "With Coefficients [ 1.17974928 -0.          0.         ...  0.          0.15707691\n",
      "  0.        ]\n"
     ]
    }
   ],
   "source": [
    "RMSE=np.array(RMSE)\n",
    "mindegree=np.argmin(RMSE)\n",
    "elastic_min=RMSE[mindegree]\n",
    "\n",
    "print('best degree is:',mindegree+1,'with rmse',RMSE[mindegree],'lambda equals',Alphas[mindegree])\n",
    "print('With Coefficients',coef[mindegree])"
   ],
   "metadata": {
    "collapsed": false,
    "pycharm": {
     "name": "#%%\n"
    }
   }
  },
  {
   "cell_type": "code",
   "execution_count": 105,
   "outputs": [
    {
     "data": {
      "text/plain": "<AxesSubplot: ylabel='Density'>"
     },
     "execution_count": 105,
     "metadata": {},
     "output_type": "execute_result"
    },
    {
     "data": {
      "text/plain": "<Figure size 432x288 with 1 Axes>",
      "image/png": "[encoded data removed]"
     },
     "metadata": {
      "needs_background": "light"
     },
     "output_type": "display_data"
    }
   ],
   "source": [
    "sns.kdeplot(RMSE)"
   ],
   "metadata": {
    "collapsed": false,
    "pycharm": {
     "name": "#%%\n"
    }
   }
  },
  {
   "cell_type": "markdown",
   "metadata": {
    "id": "O_cuFINquQYs"
   },
   "source": [
    "### 11- Compare the errors from the 3 regularization techniques, and save the best model."
   ]
  },
  {
   "cell_type": "code",
   "execution_count": 106,
   "metadata": {
    "collapsed": true,
    "id": "qn58GoGpuQYs"
   },
   "outputs": [
    {
     "name": "stdout",
     "output_type": "stream",
     "text": [
      "Minimum error is ridge= 15.19606063059892\n"
     ]
    }
   ],
   "source": [
    "if elastic_min<ridge_min:\n",
    "  if elastic_min<lasso_min:\n",
    "    print('Minimum error is elastic=',elastic_min)\n",
    "  else:\n",
    "    print('Minimum error is lasso=',lasso_min)\n",
    "else:\n",
    "  if ridge_min<lasso_min:\n",
    "    print('Minimum error is ridge=',ridge_min)\n",
    "  else:\n",
    "    print('Minimum error is lasso=',lasso_min)\n",
    "\n",
    "\n"
   ]
  },
  {
   "cell_type": "code",
   "execution_count": 107,
   "outputs": [
    {
     "data": {
      "text/plain": "RidgeCV(alphas=(0.1, 1.0, 2.0, 3.0, 4.0, 5.0, 7.0, 8.0, 9.0, 10.0),\n        scoring='neg_mean_absolute_error')",
      "text/html": "<style>#sk-container-id-1 {color: black;background-color: white;}#sk-container-id-1 pre{padding: 0;}#sk-container-id-1 div.sk-toggleable {background-color: white;}#sk-container-id-1 label.sk-toggleable__label {cursor: pointer;display: block;width: 100%;margin-bottom: 0;padding: 0.3em;box-sizing: border-box;text-align: center;}#sk-container-id-1 label.sk-toggleable__label-arrow:before {content: \"▸\";float: left;margin-right: 0.25em;color: #696969;}#sk-container-id-1 label.sk-toggleable__label-arrow:hover:before {color: black;}#sk-container-id-1 div.sk-estimator:hover label.sk-toggleable__label-arrow:before {color: black;}#sk-container-id-1 div.sk-toggleable__content {max-height: 0;max-width: 0;overflow: hidden;text-align: left;background-color: #f0f8ff;}#sk-container-id-1 div.sk-toggleable__content pre {margin: 0.2em;color: black;border-radius: 0.25em;background-color: #f0f8ff;}#sk-container-id-1 input.sk-toggleable__control:checked~div.sk-toggleable__content {max-height: 200px;max-width: 100%;overflow: auto;}#sk-container-id-1 input.sk-toggleable__control:checked~label.sk-toggleable__label-arrow:before {content: \"▾\";}#sk-container-id-1 div.sk-estimator input.sk-toggleable__control:checked~label.sk-toggleable__label {background-color: #d4ebff;}#sk-container-id-1 div.sk-label input.sk-toggleable__control:checked~label.sk-toggleable__label {background-color: #d4ebff;}#sk-container-id-1 input.sk-hidden--visually {border: 0;clip: rect(1px 1px 1px 1px);clip: rect(1px, 1px, 1px, 1px);height: 1px;margin: -1px;overflow: hidden;padding: 0;position: absolute;width: 1px;}#sk-container-id-1 div.sk-estimator {font-family: monospace;background-color: #f0f8ff;border: 1px dotted black;border-radius: 0.25em;box-sizing: border-box;margin-bottom: 0.5em;}#sk-container-id-1 div.sk-estimator:hover {background-color: #d4ebff;}#sk-container-id-1 div.sk-parallel-item::after {content: \"\";width: 100%;border-bottom: 1px solid gray;flex-grow: 1;}#sk-container-id-1 div.sk-label:hover label.sk-toggleable__label {background-color: #d4ebff;}#sk-container-id-1 div.sk-serial::before {content: \"\";position: absolute;border-left: 1px solid gray;box-sizing: border-box;top: 0;bottom: 0;left: 50%;z-index: 0;}#sk-container-id-1 div.sk-serial {display: flex;flex-direction: column;align-items: center;background-color: white;padding-right: 0.2em;padding-left: 0.2em;position: relative;}#sk-container-id-1 div.sk-item {position: relative;z-index: 1;}#sk-container-id-1 div.sk-parallel {display: flex;align-items: stretch;justify-content: center;background-color: white;position: relative;}#sk-container-id-1 div.sk-item::before, #sk-container-id-1 div.sk-parallel-item::before {content: \"\";position: absolute;border-left: 1px solid gray;box-sizing: border-box;top: 0;bottom: 0;left: 50%;z-index: -1;}#sk-container-id-1 div.sk-parallel-item {display: flex;flex-direction: column;z-index: 1;position: relative;background-color: white;}#sk-container-id-1 div.sk-parallel-item:first-child::after {align-self: flex-end;width: 50%;}#sk-container-id-1 div.sk-parallel-item:last-child::after {align-self: flex-start;width: 50%;}#sk-container-id-1 div.sk-parallel-item:only-child::after {width: 0;}#sk-container-id-1 div.sk-dashed-wrapped {border: 1px dashed gray;margin: 0 0.4em 0.5em 0.4em;box-sizing: border-box;padding-bottom: 0.4em;background-color: white;}#sk-container-id-1 div.sk-label label {font-family: monospace;font-weight: bold;display: inline-block;line-height: 1.2em;}#sk-container-id-1 div.sk-label-container {text-align: center;}#sk-container-id-1 div.sk-container {/* jupyter's `normalize.less` sets `[hidden] { display: none; }` but bootstrap.min.css set `[hidden] { display: none !important; }` so we also need the `!important` here to be able to override the default hidden behavior on the sphinx rendered scikit-learn.org. See: https://github.com/scikit-learn/scikit-learn/issues/21755 */display: inline-block !important;position: relative;}#sk-container-id-1 div.sk-text-repr-fallback {display: none;}</style><div id=\"sk-container-id-1\" class=\"sk-top-container\"><div class=\"sk-text-repr-fallback\"><pre>RidgeCV(alphas=(0.1, 1.0, 2.0, 3.0, 4.0, 5.0, 7.0, 8.0, 9.0, 10.0),\n        scoring=&#x27;neg_mean_absolute_error&#x27;)</pre><b>In a Jupyter environment, please rerun this cell to show the HTML representation or trust the notebook. <br />On GitHub, the HTML representation is unable to render, please try loading this page with nbviewer.org.</b></div><div class=\"sk-container\" hidden><div class=\"sk-item\"><div class=\"sk-estimator sk-toggleable\"><input class=\"sk-toggleable__control sk-hidden--visually\" id=\"sk-estimator-id-1\" type=\"checkbox\" checked><label for=\"sk-estimator-id-1\" class=\"sk-toggleable__label sk-toggleable__label-arrow\">RidgeCV</label><div class=\"sk-toggleable__content\"><pre>RidgeCV(alphas=(0.1, 1.0, 2.0, 3.0, 4.0, 5.0, 7.0, 8.0, 9.0, 10.0),\n        scoring=&#x27;neg_mean_absolute_error&#x27;)</pre></div></div></div></div></div>"
     },
     "execution_count": 107,
     "metadata": {},
     "output_type": "execute_result"
    }
   ],
   "source": [
    "final_poly_converter = PolynomialFeatures(degree=4,include_bias=False)\n",
    "final_model=RidgeCV(alphas=(0.1, 1.0, 2.0, 3.0, 4.0, 5.0, 7.0, 8.0, 9.0, 10.0),scoring='neg_mean_absolute_error')\n",
    "final_model.fit(final_poly_converter.fit_transform(X_train),y_train)"
   ],
   "metadata": {
    "collapsed": false,
    "pycharm": {
     "name": "#%%\n"
    }
   }
  },
  {
   "cell_type": "markdown",
   "metadata": {
    "id": "IUGAAZY4uQYs"
   },
   "source": [
    "### 12- Load the best model and test it on a sample that you manually created it."
   ]
  },
  {
   "cell_type": "code",
   "execution_count": 108,
   "outputs": [
    {
     "data": {
      "text/plain": "['scaler.joblib']"
     },
     "execution_count": 108,
     "metadata": {},
     "output_type": "execute_result"
    }
   ],
   "source": [
    "from joblib import dump, load\n",
    "dump(final_model, 'air_quality_model.joblib')\n",
    "dump(final_poly_converter,'poly_converter.joblib')\n",
    "dump(scaler,'scaler.joblib')"
   ],
   "metadata": {
    "collapsed": false,
    "pycharm": {
     "name": "#%%\n"
    }
   }
  },
  {
   "cell_type": "code",
   "execution_count": 115,
   "outputs": [
    {
     "data": {
      "text/plain": "     Day Month  Year Hour Minute Seconds  PT08.S1(CO)  PT08.S2(NMHC)  \\\n0      3    10  2004   18     00      00       1360.0         1046.0   \n1      3    10  2004   19     00      00       1292.0          955.0   \n2      3    10  2004   20     00      00       1402.0          939.0   \n3      3    10  2004   21     00      00       1376.0          948.0   \n4      3    10  2004   22     00      00       1272.0          836.0   \n...   ..   ...   ...  ...    ...     ...          ...            ...   \n9352   4     4  2005   10     00      00       1314.0         1101.0   \n9353   4     4  2005   11     00      00       1163.0         1027.0   \n9354   4     4  2005   12     00      00       1142.0         1063.0   \n9355   4     4  2005   13     00      00       1003.0          961.0   \n9356   4     4  2005   14     00      00       1071.0         1047.0   \n\n      PT08.S3(NOx)  NO2(GT)  PT08.S4(NO2)  PT08.S5(O3)     T    RH      AH  \n0           1056.0    113.0        1692.0       1268.0  13.6  48.9  0.7578  \n1           1174.0     92.0        1559.0        972.0  13.3  47.7  0.7255  \n2           1140.0    114.0        1555.0       1074.0  11.9  54.0  0.7502  \n3           1092.0    122.0        1584.0       1203.0  11.0  60.0  0.7867  \n4           1205.0    116.0        1490.0       1110.0  11.2  59.6  0.7888  \n...            ...      ...           ...          ...   ...   ...     ...  \n9352         539.0    190.0        1374.0       1729.0  21.9  29.3  0.7568  \n9353         604.0    179.0        1264.0       1269.0  24.3  23.7  0.7119  \n9354         603.0    175.0        1241.0       1092.0  26.9  18.3  0.6406  \n9355         702.0    156.0        1041.0        770.0  28.3  13.5  0.5139  \n9356         654.0    168.0        1129.0        816.0  28.5  13.1  0.5028  \n\n[7531 rows x 15 columns]",
      "text/html": "<div>\n<style scoped>\n    .dataframe tbody tr th:only-of-type {\n        vertical-align: middle;\n    }\n\n    .dataframe tbody tr th {\n        vertical-align: top;\n    }\n\n    .dataframe thead th {\n        text-align: right;\n    }\n</style>\n<table border=\"1\" class=\"dataframe\">\n  <thead>\n    <tr style=\"text-align: right;\">\n      <th></th>\n      <th>Day</th>\n      <th>Month</th>\n      <th>Year</th>\n      <th>Hour</th>\n      <th>Minute</th>\n      <th>Seconds</th>\n      <th>PT08.S1(CO)</th>\n      <th>PT08.S2(NMHC)</th>\n      <th>PT08.S3(NOx)</th>\n      <th>NO2(GT)</th>\n      <th>PT08.S4(NO2)</th>\n      <th>PT08.S5(O3)</th>\n      <th>T</th>\n      <th>RH</th>\n      <th>AH</th>\n    </tr>\n  </thead>\n  <tbody>\n    <tr>\n      <th>0</th>\n      <td>3</td>\n      <td>10</td>\n      <td>2004</td>\n      <td>18</td>\n      <td>00</td>\n      <td>00</td>\n      <td>1360.0</td>\n      <td>1046.0</td>\n      <td>1056.0</td>\n      <td>113.0</td>\n      <td>1692.0</td>\n      <td>1268.0</td>\n      <td>13.6</td>\n      <td>48.9</td>\n      <td>0.7578</td>\n    </tr>\n    <tr>\n      <th>1</th>\n      <td>3</td>\n      <td>10</td>\n      <td>2004</td>\n      <td>19</td>\n      <td>00</td>\n      <td>00</td>\n      <td>1292.0</td>\n      <td>955.0</td>\n      <td>1174.0</td>\n      <td>92.0</td>\n      <td>1559.0</td>\n      <td>972.0</td>\n      <td>13.3</td>\n      <td>47.7</td>\n      <td>0.7255</td>\n    </tr>\n    <tr>\n      <th>2</th>\n      <td>3</td>\n      <td>10</td>\n      <td>2004</td>\n      <td>20</td>\n      <td>00</td>\n      <td>00</td>\n      <td>1402.0</td>\n      <td>939.0</td>\n      <td>1140.0</td>\n      <td>114.0</td>\n      <td>1555.0</td>\n      <td>1074.0</td>\n      <td>11.9</td>\n      <td>54.0</td>\n      <td>0.7502</td>\n    </tr>\n    <tr>\n      <th>3</th>\n      <td>3</td>\n      <td>10</td>\n      <td>2004</td>\n      <td>21</td>\n      <td>00</td>\n      <td>00</td>\n      <td>1376.0</td>\n      <td>948.0</td>\n      <td>1092.0</td>\n      <td>122.0</td>\n      <td>1584.0</td>\n      <td>1203.0</td>\n      <td>11.0</td>\n      <td>60.0</td>\n      <td>0.7867</td>\n    </tr>\n    <tr>\n      <th>4</th>\n      <td>3</td>\n      <td>10</td>\n      <td>2004</td>\n      <td>22</td>\n      <td>00</td>\n      <td>00</td>\n      <td>1272.0</td>\n      <td>836.0</td>\n      <td>1205.0</td>\n      <td>116.0</td>\n      <td>1490.0</td>\n      <td>1110.0</td>\n      <td>11.2</td>\n      <td>59.6</td>\n      <td>0.7888</td>\n    </tr>\n    <tr>\n      <th>...</th>\n      <td>...</td>\n      <td>...</td>\n      <td>...</td>\n      <td>...</td>\n      <td>...</td>\n      <td>...</td>\n      <td>...</td>\n      <td>...</td>\n      <td>...</td>\n      <td>...</td>\n      <td>...</td>\n      <td>...</td>\n      <td>...</td>\n      <td>...</td>\n      <td>...</td>\n    </tr>\n    <tr>\n      <th>9352</th>\n      <td>4</td>\n      <td>4</td>\n      <td>2005</td>\n      <td>10</td>\n      <td>00</td>\n      <td>00</td>\n      <td>1314.0</td>\n      <td>1101.0</td>\n      <td>539.0</td>\n      <td>190.0</td>\n      <td>1374.0</td>\n      <td>1729.0</td>\n      <td>21.9</td>\n      <td>29.3</td>\n      <td>0.7568</td>\n    </tr>\n    <tr>\n      <th>9353</th>\n      <td>4</td>\n      <td>4</td>\n      <td>2005</td>\n      <td>11</td>\n      <td>00</td>\n      <td>00</td>\n      <td>1163.0</td>\n      <td>1027.0</td>\n      <td>604.0</td>\n      <td>179.0</td>\n      <td>1264.0</td>\n      <td>1269.0</td>\n      <td>24.3</td>\n      <td>23.7</td>\n      <td>0.7119</td>\n    </tr>\n    <tr>\n      <th>9354</th>\n      <td>4</td>\n      <td>4</td>\n      <td>2005</td>\n      <td>12</td>\n      <td>00</td>\n      <td>00</td>\n      <td>1142.0</td>\n      <td>1063.0</td>\n      <td>603.0</td>\n      <td>175.0</td>\n      <td>1241.0</td>\n      <td>1092.0</td>\n      <td>26.9</td>\n      <td>18.3</td>\n      <td>0.6406</td>\n    </tr>\n    <tr>\n      <th>9355</th>\n      <td>4</td>\n      <td>4</td>\n      <td>2005</td>\n      <td>13</td>\n      <td>00</td>\n      <td>00</td>\n      <td>1003.0</td>\n      <td>961.0</td>\n      <td>702.0</td>\n      <td>156.0</td>\n      <td>1041.0</td>\n      <td>770.0</td>\n      <td>28.3</td>\n      <td>13.5</td>\n      <td>0.5139</td>\n    </tr>\n    <tr>\n      <th>9356</th>\n      <td>4</td>\n      <td>4</td>\n      <td>2005</td>\n      <td>14</td>\n      <td>00</td>\n      <td>00</td>\n      <td>1071.0</td>\n      <td>1047.0</td>\n      <td>654.0</td>\n      <td>168.0</td>\n      <td>1129.0</td>\n      <td>816.0</td>\n      <td>28.5</td>\n      <td>13.1</td>\n      <td>0.5028</td>\n    </tr>\n  </tbody>\n</table>\n<p>7531 rows × 15 columns</p>\n</div>"
     },
     "execution_count": 115,
     "metadata": {},
     "output_type": "execute_result"
    }
   ],
   "source": [
    "df_cleaned"
   ],
   "metadata": {
    "collapsed": false,
    "pycharm": {
     "name": "#%%\n"
    }
   }
  },
  {
   "cell_type": "code",
   "execution_count": 118,
   "outputs": [],
   "source": [
    "loaded_poly = load('poly_converter.joblib')\n",
    "loaded_model = load('air_quality_model.joblib')\n",
    "loaded_scaler=load('scaler.joblib')"
   ],
   "metadata": {
    "collapsed": false,
    "pycharm": {
     "name": "#%%\n"
    }
   }
  },
  {
   "cell_type": "code",
   "execution_count": 123,
   "outputs": [
    {
     "data": {
      "text/plain": "array([77.96513646, 82.70446923])"
     },
     "execution_count": 123,
     "metadata": {},
     "output_type": "execute_result"
    }
   ],
   "source": [
    "data={'Day':[3,8],'Month':[11,12],'Year':[2004,2004],'Hour':[1,19],'PT08.S1(CO)':[1136.0,1140.0],'PT08.S2(NMHC)':[672.0,562.0],'PT08.S3(NOx)':[1462.0,1230.0],'PT08.S4(NO2)':[1333.0,1230.0],'PT08.S5(O3)':[730.0,655.0],'T':[10.7,20.1],'RH':[59.7,62.5],'AH':[0.7702,0.73412]}\n",
    "dt=pd.DataFrame(data)\n",
    "x=loaded_scaler.transform(dt)\n",
    "#df=pd.DataFrame(df)\n",
    "pol=loaded_poly.transform(x)\n",
    "loaded_model.predict(pol)\n"
   ],
   "metadata": {
    "collapsed": false,
    "pycharm": {
     "name": "#%%\n"
    }
   }
  },
  {
   "cell_type": "markdown",
   "metadata": {
    "id": "G3dUEoJjj-AK"
   },
   "source": [
    "## Great work!\n",
    "----"
   ]
  }
 ],
 "metadata": {
  "anaconda-cloud": {},
  "colab": {
   "provenance": []
  },
  "kernelspec": {
   "display_name": "Python [default]",
   "language": "python",
   "name": "python3"
  },
  "language_info": {
   "codemirror_mode": {
    "name": "ipython",
    "version": 3
   },
   "file_extension": ".py",
   "mimetype": "text/x-python",
   "name": "python",
   "nbconvert_exporter": "python",
   "pygments_lexer": "ipython3",
   "version": "3.5.2"
  }
 },
 "nbformat": 4,
 "nbformat_minor": 0
}